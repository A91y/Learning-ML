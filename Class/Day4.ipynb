{
 "cells": [
  {
   "cell_type": "code",
   "execution_count": 1,
   "id": "8262729a-df62-420c-bb3e-62b2aae27b1d",
   "metadata": {},
   "outputs": [],
   "source": [
    "list = [x for x in range(10)]"
   ]
  },
  {
   "cell_type": "code",
   "execution_count": 2,
   "id": "1774c8d4-f23a-4c76-8407-da7867d22997",
   "metadata": {},
   "outputs": [
    {
     "data": {
      "text/plain": [
       "[0, 1, 2, 3, 4, 5, 6, 7, 8, 9]"
      ]
     },
     "execution_count": 2,
     "metadata": {},
     "output_type": "execute_result"
    }
   ],
   "source": [
    "list"
   ]
  },
  {
   "cell_type": "code",
   "execution_count": 3,
   "id": "20461807-e6d7-4f9b-96ec-0a0eb1af40f8",
   "metadata": {},
   "outputs": [
    {
     "data": {
      "text/plain": [
       "184"
      ]
     },
     "execution_count": 3,
     "metadata": {},
     "output_type": "execute_result"
    }
   ],
   "source": [
    "import sys\n",
    "sys.getsizeof(list)"
   ]
  },
  {
   "cell_type": "code",
   "execution_count": 4,
   "id": "270fd3e7-b2af-4795-b617-dbbefb7a6dad",
   "metadata": {},
   "outputs": [
    {
     "data": {
      "text/plain": [
       "48"
      ]
     },
     "execution_count": 4,
     "metadata": {},
     "output_type": "execute_result"
    }
   ],
   "source": [
    "x = range(1000000000)\n",
    "sys.getsizeof(x)"
   ]
  },
  {
   "cell_type": "markdown",
   "id": "da9b0538-822a-48f2-bb43-6a186cd11d19",
   "metadata": {},
   "source": [
    "# Strings"
   ]
  },
  {
   "cell_type": "code",
   "execution_count": 5,
   "id": "61072d3b-d197-4ebc-b6be-9068494039ae",
   "metadata": {},
   "outputs": [
    {
     "name": "stdout",
     "output_type": "stream",
     "text": [
      "0\n",
      "1\n",
      "2\n",
      "3\n",
      "4\n",
      "5\n",
      "6\n",
      "7\n",
      "8\n",
      "9\n"
     ]
    }
   ],
   "source": [
    "for x in list:\n",
    "    print(x)"
   ]
  },
  {
   "cell_type": "code",
   "execution_count": 6,
   "id": "abd11e77-565c-4bb3-a236-68d5e2240d82",
   "metadata": {},
   "outputs": [
    {
     "name": "stdout",
     "output_type": "stream",
     "text": [
      "I\n",
      "N\n",
      "N\n",
      "O\n",
      "G\n",
      "E\n",
      "E\n",
      "K\n",
      "S\n"
     ]
    }
   ],
   "source": [
    "for x in \"INNOGEEKS\":\n",
    "    print(x)"
   ]
  },
  {
   "cell_type": "code",
   "execution_count": 7,
   "id": "1d12ba70-6764-4a66-86e2-4fe7c81ff673",
   "metadata": {},
   "outputs": [],
   "source": [
    "a = \"Hello, World !\""
   ]
  },
  {
   "cell_type": "code",
   "execution_count": 8,
   "id": "c6b04068-34e3-4656-9876-48961a2113bb",
   "metadata": {},
   "outputs": [
    {
     "name": "stdout",
     "output_type": "stream",
     "text": [
      "H\n",
      "e\n",
      "l\n",
      "l\n",
      "o\n",
      ",\n",
      " \n",
      "W\n",
      "o\n",
      "r\n",
      "l\n",
      "d\n",
      " \n",
      "!\n"
     ]
    }
   ],
   "source": [
    "for x in a:\n",
    "    print(x)"
   ]
  },
  {
   "cell_type": "markdown",
   "id": "405f5eb2-9bc2-4619-b5d9-cfcb476efe0f",
   "metadata": {},
   "source": [
    "# string[start:stop:skip]"
   ]
  },
  {
   "cell_type": "code",
   "execution_count": 9,
   "id": "b7d4952f-b626-404b-aa64-6dd16240c033",
   "metadata": {},
   "outputs": [
    {
     "data": {
      "text/plain": [
       "'o, World !'"
      ]
     },
     "execution_count": 9,
     "metadata": {},
     "output_type": "execute_result"
    }
   ],
   "source": [
    "a[4:]"
   ]
  },
  {
   "cell_type": "code",
   "execution_count": 10,
   "id": "070e2d2c-c0e8-4adf-a870-2f9049e176c9",
   "metadata": {},
   "outputs": [
    {
     "data": {
      "text/plain": [
       "'o, W'"
      ]
     },
     "execution_count": 10,
     "metadata": {},
     "output_type": "execute_result"
    }
   ],
   "source": [
    "a[4:8]"
   ]
  },
  {
   "cell_type": "code",
   "execution_count": 11,
   "id": "e5638b5c-061f-4bf1-ae16-6b7ef2c3446c",
   "metadata": {},
   "outputs": [
    {
     "data": {
      "text/plain": [
       "'Hello, World !'"
      ]
     },
     "execution_count": 11,
     "metadata": {},
     "output_type": "execute_result"
    }
   ],
   "source": [
    "a"
   ]
  },
  {
   "cell_type": "code",
   "execution_count": 12,
   "id": "ece55c15-c988-4223-8783-00f0a109ac92",
   "metadata": {},
   "outputs": [
    {
     "data": {
      "text/plain": [
       "'ello, W'"
      ]
     },
     "execution_count": 12,
     "metadata": {},
     "output_type": "execute_result"
    }
   ],
   "source": [
    "a[1:8:1]"
   ]
  },
  {
   "cell_type": "code",
   "execution_count": 13,
   "id": "089b56c3-b1f1-4974-95a5-1c512db82881",
   "metadata": {},
   "outputs": [
    {
     "data": {
      "text/plain": [
       "'el,W'"
      ]
     },
     "execution_count": 13,
     "metadata": {},
     "output_type": "execute_result"
    }
   ],
   "source": [
    "a[1:8:2]"
   ]
  },
  {
   "cell_type": "code",
   "execution_count": 14,
   "id": "f5ffb284-d047-4847-afdc-284bdbedd16e",
   "metadata": {},
   "outputs": [
    {
     "data": {
      "text/plain": [
       "''"
      ]
     },
     "execution_count": 14,
     "metadata": {},
     "output_type": "execute_result"
    }
   ],
   "source": [
    "a[-1:-8] # The direction of slicing is always from left to right"
   ]
  },
  {
   "cell_type": "code",
   "execution_count": 15,
   "id": "a4574281-6f95-4a5d-9021-e4c93b53060b",
   "metadata": {},
   "outputs": [
    {
     "data": {
      "text/plain": [
       "' World '"
      ]
     },
     "execution_count": 15,
     "metadata": {},
     "output_type": "execute_result"
    }
   ],
   "source": [
    "a[-8:-1]"
   ]
  },
  {
   "cell_type": "code",
   "execution_count": 16,
   "id": "ba7e79c2-927a-403d-a3b6-16a005ad4f3a",
   "metadata": {},
   "outputs": [
    {
     "data": {
      "text/plain": [
       "'! dlroW ,olleH'"
      ]
     },
     "execution_count": 16,
     "metadata": {},
     "output_type": "execute_result"
    }
   ],
   "source": [
    "a[::-1]"
   ]
  },
  {
   "cell_type": "code",
   "execution_count": 17,
   "id": "84f0420e-90ab-449a-8d89-6705059c3024",
   "metadata": {},
   "outputs": [
    {
     "data": {
      "text/plain": [
       "'!drW,le'"
      ]
     },
     "execution_count": 17,
     "metadata": {},
     "output_type": "execute_result"
    }
   ],
   "source": [
    "a[::-2]"
   ]
  },
  {
   "cell_type": "code",
   "execution_count": 18,
   "id": "5cbd924b-373c-497a-9c20-b57763b1bca6",
   "metadata": {},
   "outputs": [
    {
     "data": {
      "text/plain": [
       "'!lWoe'"
      ]
     },
     "execution_count": 18,
     "metadata": {},
     "output_type": "execute_result"
    }
   ],
   "source": [
    "a[::-3]"
   ]
  },
  {
   "cell_type": "code",
   "execution_count": 19,
   "id": "bcf77654-94a5-424f-b26d-7123f1f07a5c",
   "metadata": {},
   "outputs": [],
   "source": [
    "string = 'hello, i am studying in innogeeks class'"
   ]
  },
  {
   "cell_type": "code",
   "execution_count": 20,
   "id": "a0152443-1215-4cf1-bf0e-0a34963ed71a",
   "metadata": {},
   "outputs": [
    {
     "data": {
      "text/plain": [
       "True"
      ]
     },
     "execution_count": 20,
     "metadata": {},
     "output_type": "execute_result"
    }
   ],
   "source": [
    "\"am\" in string"
   ]
  },
  {
   "cell_type": "code",
   "execution_count": 21,
   "id": "36918ecd-d726-4960-a2c7-3e3f3cab355d",
   "metadata": {},
   "outputs": [
    {
     "data": {
      "text/plain": [
       "'HELLO, I AM STUDYING IN INNOGEEKS CLASS'"
      ]
     },
     "execution_count": 21,
     "metadata": {},
     "output_type": "execute_result"
    }
   ],
   "source": [
    "string.upper()"
   ]
  },
  {
   "cell_type": "code",
   "execution_count": 22,
   "id": "20b8f1ae-2526-4bae-b92b-cb4bc57be37e",
   "metadata": {},
   "outputs": [],
   "source": [
    "string = string.capitalize()"
   ]
  },
  {
   "cell_type": "code",
   "execution_count": 23,
   "id": "8964b720-89cb-4176-bb83-4a2370289bbd",
   "metadata": {},
   "outputs": [
    {
     "data": {
      "text/plain": [
       "'Hello, i am studying in innogeeks class'"
      ]
     },
     "execution_count": 23,
     "metadata": {},
     "output_type": "execute_result"
    }
   ],
   "source": [
    "string"
   ]
  },
  {
   "cell_type": "code",
   "execution_count": 24,
   "id": "56ef06e6-a7f9-4a53-86be-0ad24a374e94",
   "metadata": {},
   "outputs": [
    {
     "data": {
      "text/plain": [
       "'Hello, i am studying in innogeeks class Ayush 23'"
      ]
     },
     "execution_count": 24,
     "metadata": {},
     "output_type": "execute_result"
    }
   ],
   "source": [
    "str1 = string + \" Ayush \" + str(23)\n",
    "str1"
   ]
  },
  {
   "cell_type": "code",
   "execution_count": 25,
   "id": "fc62415e-202e-4bf3-b615-cd2c89c25c0a",
   "metadata": {},
   "outputs": [],
   "source": [
    "list = ['a', 'b', 'c', 'd']"
   ]
  },
  {
   "cell_type": "code",
   "execution_count": 26,
   "id": "dd421b30-78c0-42aa-9a98-b5700aaf6945",
   "metadata": {},
   "outputs": [
    {
     "data": {
      "text/plain": [
       "['a', 'b', 'c', 'd']"
      ]
     },
     "execution_count": 26,
     "metadata": {},
     "output_type": "execute_result"
    }
   ],
   "source": [
    "list"
   ]
  },
  {
   "cell_type": "markdown",
   "id": "695888ca-5a58-4e39-8c32-1d7272d3f585",
   "metadata": {},
   "source": [
    "# Functions"
   ]
  },
  {
   "cell_type": "code",
   "execution_count": 27,
   "id": "82cef5b0-07eb-4c84-897f-cfb16092950a",
   "metadata": {},
   "outputs": [],
   "source": [
    "def inno():\n",
    "    print(\"Ayush\")"
   ]
  },
  {
   "cell_type": "code",
   "execution_count": 28,
   "id": "82e96bda-2700-4039-8e05-9c72380c7efd",
   "metadata": {},
   "outputs": [
    {
     "name": "stdout",
     "output_type": "stream",
     "text": [
      "Ayush\n"
     ]
    }
   ],
   "source": [
    "inno()"
   ]
  },
  {
   "cell_type": "code",
   "execution_count": 29,
   "id": "7d719350-f52b-44d6-92f4-3df340eb8300",
   "metadata": {},
   "outputs": [
    {
     "data": {
      "text/plain": [
       "<function dir>"
      ]
     },
     "execution_count": 29,
     "metadata": {},
     "output_type": "execute_result"
    }
   ],
   "source": [
    "y = dir(sys)\n",
    "dir"
   ]
  },
  {
   "cell_type": "code",
   "execution_count": 30,
   "id": "799a65b6-30f4-4ac1-8192-6ada998ddf04",
   "metadata": {},
   "outputs": [
    {
     "data": {
      "text/plain": [
       "['__breakpointhook__',\n",
       " '__displayhook__',\n",
       " '__doc__',\n",
       " '__excepthook__',\n",
       " '__interactivehook__',\n",
       " '__loader__',\n",
       " '__name__',\n",
       " '__package__',\n",
       " '__spec__',\n",
       " '__stderr__',\n",
       " '__stdin__',\n",
       " '__stdout__',\n",
       " '__unraisablehook__',\n",
       " '_base_executable',\n",
       " '_clear_type_cache',\n",
       " '_current_exceptions',\n",
       " '_current_frames',\n",
       " '_debugmallocstats',\n",
       " '_enablelegacywindowsfsencoding',\n",
       " '_framework',\n",
       " '_getframe',\n",
       " '_getquickenedcount',\n",
       " '_git',\n",
       " '_home',\n",
       " '_stdlib_dir',\n",
       " '_vpath',\n",
       " '_xoptions',\n",
       " 'addaudithook',\n",
       " 'api_version',\n",
       " 'argv',\n",
       " 'audit',\n",
       " 'base_exec_prefix',\n",
       " 'base_prefix',\n",
       " 'breakpointhook',\n",
       " 'builtin_module_names',\n",
       " 'byteorder',\n",
       " 'call_tracing',\n",
       " 'copyright',\n",
       " 'displayhook',\n",
       " 'dllhandle',\n",
       " 'dont_write_bytecode',\n",
       " 'exc_info',\n",
       " 'excepthook',\n",
       " 'exception',\n",
       " 'exec_prefix',\n",
       " 'executable',\n",
       " 'exit',\n",
       " 'flags',\n",
       " 'float_info',\n",
       " 'float_repr_style',\n",
       " 'get_asyncgen_hooks',\n",
       " 'get_coroutine_origin_tracking_depth',\n",
       " 'get_int_max_str_digits',\n",
       " 'getallocatedblocks',\n",
       " 'getdefaultencoding',\n",
       " 'getfilesystemencodeerrors',\n",
       " 'getfilesystemencoding',\n",
       " 'getprofile',\n",
       " 'getrecursionlimit',\n",
       " 'getrefcount',\n",
       " 'getsizeof',\n",
       " 'getswitchinterval',\n",
       " 'gettrace',\n",
       " 'getwindowsversion',\n",
       " 'hash_info',\n",
       " 'hexversion',\n",
       " 'implementation',\n",
       " 'int_info',\n",
       " 'intern',\n",
       " 'is_finalizing',\n",
       " 'maxsize',\n",
       " 'maxunicode',\n",
       " 'meta_path',\n",
       " 'modules',\n",
       " 'orig_argv',\n",
       " 'path',\n",
       " 'path_hooks',\n",
       " 'path_importer_cache',\n",
       " 'platform',\n",
       " 'platlibdir',\n",
       " 'prefix',\n",
       " 'ps1',\n",
       " 'ps2',\n",
       " 'ps3',\n",
       " 'pycache_prefix',\n",
       " 'set_asyncgen_hooks',\n",
       " 'set_coroutine_origin_tracking_depth',\n",
       " 'set_int_max_str_digits',\n",
       " 'setprofile',\n",
       " 'setrecursionlimit',\n",
       " 'setswitchinterval',\n",
       " 'settrace',\n",
       " 'stderr',\n",
       " 'stdin',\n",
       " 'stdlib_module_names',\n",
       " 'stdout',\n",
       " 'thread_info',\n",
       " 'unraisablehook',\n",
       " 'version',\n",
       " 'version_info',\n",
       " 'warnoptions',\n",
       " 'winver']"
      ]
     },
     "execution_count": 30,
     "metadata": {},
     "output_type": "execute_result"
    }
   ],
   "source": [
    "y"
   ]
  },
  {
   "cell_type": "code",
   "execution_count": 34,
   "id": "e7cff222-e269-420a-8a91-bd627bf2fcd1",
   "metadata": {},
   "outputs": [],
   "source": [
    "def myFunc(a):\n",
    "    print(\"hello\" + a)"
   ]
  },
  {
   "cell_type": "code",
   "execution_count": 35,
   "id": "5bcb6720-b02d-496b-a498-bcf3ad8abf76",
   "metadata": {},
   "outputs": [
    {
     "name": "stdout",
     "output_type": "stream",
     "text": [
      "helloa\n"
     ]
    }
   ],
   "source": [
    "myFunc(\"a\")"
   ]
  },
  {
   "cell_type": "code",
   "execution_count": 38,
   "id": "453a4776-39bf-4e6c-a3b1-8260b5858969",
   "metadata": {},
   "outputs": [],
   "source": [
    "def inno(*size):\n",
    "    print(\"rachitavya\" + \" \" + str(size[1]) + \" \" + str(size[2]))"
   ]
  },
  {
   "cell_type": "code",
   "execution_count": 39,
   "id": "04b845bf-5d5f-4f63-a7da-de6de876e6b6",
   "metadata": {},
   "outputs": [
    {
     "name": "stdout",
     "output_type": "stream",
     "text": [
      "rachitavya 3 2\n"
     ]
    }
   ],
   "source": [
    "inno(4,3,2)"
   ]
  },
  {
   "cell_type": "code",
   "execution_count": null,
   "id": "0d9185bb-16d1-4577-83ca-2bbbc59d5e43",
   "metadata": {},
   "outputs": [],
   "source": []
  }
 ],
 "metadata": {
  "kernelspec": {
   "display_name": "Python 3 (ipykernel)",
   "language": "python",
   "name": "python3"
  },
  "language_info": {
   "codemirror_mode": {
    "name": "ipython",
    "version": 3
   },
   "file_extension": ".py",
   "mimetype": "text/x-python",
   "name": "python",
   "nbconvert_exporter": "python",
   "pygments_lexer": "ipython3",
   "version": "3.11.0"
  }
 },
 "nbformat": 4,
 "nbformat_minor": 5
}
