{
 "cells": [
  {
   "cell_type": "markdown",
   "id": "b8fedb3c-afec-43c9-a3bd-ad29d37fb3ff",
   "metadata": {},
   "source": [
    "# Class Missed \n",
    "Gradient Descent \n",
    "https://github.com/rachitavya/Teaching-ML/blob/main/Algorithms/Linear%20Regression/Gradient%20Descent.ipynb"
   ]
  },
  {
   "cell_type": "code",
   "execution_count": null,
   "id": "929bcc42-d38a-44aa-ad30-31512f31e2f9",
   "metadata": {},
   "outputs": [],
   "source": []
  }
 ],
 "metadata": {
  "kernelspec": {
   "display_name": "Python 3 (ipykernel)",
   "language": "python",
   "name": "python3"
  },
  "language_info": {
   "codemirror_mode": {
    "name": "ipython",
    "version": 3
   },
   "file_extension": ".py",
   "mimetype": "text/x-python",
   "name": "python",
   "nbconvert_exporter": "python",
   "pygments_lexer": "ipython3",
   "version": "3.11.0"
  }
 },
 "nbformat": 4,
 "nbformat_minor": 5
}
