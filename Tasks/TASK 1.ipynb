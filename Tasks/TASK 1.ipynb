{
 "cells": [
  {
   "cell_type": "markdown",
   "id": "d11ce068-5ec9-4d0a-85b2-4616fee0c4e1",
   "metadata": {},
   "source": [
    "# Task 1"
   ]
  },
  {
   "cell_type": "code",
   "execution_count": 1,
   "id": "21a0ec03",
   "metadata": {},
   "outputs": [],
   "source": [
    "import numpy as np"
   ]
  },
  {
   "cell_type": "code",
   "execution_count": 2,
   "id": "844aae4e-18c7-494e-b731-2dd03505447f",
   "metadata": {},
   "outputs": [],
   "source": [
    "#Initializing array\n",
    "arr = np.arange(1,11)"
   ]
  },
  {
   "cell_type": "code",
   "execution_count": 3,
   "id": "da51d568",
   "metadata": {},
   "outputs": [
    {
     "name": "stdout",
     "output_type": "stream",
     "text": [
      "1\n",
      "2\n",
      "3\n",
      "4\n",
      "5\n",
      "6\n",
      "7\n",
      "8\n",
      "9\n",
      "10\n"
     ]
    }
   ],
   "source": [
    "# Print elements of array\n",
    "for _ in arr:\n",
    "    print(_)"
   ]
  },
  {
   "cell_type": "markdown",
   "id": "968253b5",
   "metadata": {},
   "source": [
    "# 1> Searching an element in an array"
   ]
  },
  {
   "cell_type": "code",
   "execution_count": 4,
   "id": "6322574c-f260-42b9-b54a-d342207cba87",
   "metadata": {},
   "outputs": [],
   "source": [
    "def search(arr,n):\n",
    "    if n in arr:\n",
    "        print(\"Element Found\")\n",
    "    else:\n",
    "        print(\"Not Found\")"
   ]
  },
  {
   "cell_type": "code",
   "execution_count": 5,
   "id": "8b5525e0-bc66-4744-a7dc-ce3c90b40d81",
   "metadata": {},
   "outputs": [
    {
     "name": "stdout",
     "output_type": "stream",
     "text": [
      "Element Found\n"
     ]
    }
   ],
   "source": [
    "search(arr, 2)"
   ]
  },
  {
   "cell_type": "code",
   "execution_count": 6,
   "id": "e5dc17fb-aebf-473e-8c3a-ab97ae885edd",
   "metadata": {},
   "outputs": [
    {
     "name": "stdout",
     "output_type": "stream",
     "text": [
      "Not Found\n"
     ]
    }
   ],
   "source": [
    "search(arr, 11)"
   ]
  },
  {
   "cell_type": "markdown",
   "id": "18cb4721",
   "metadata": {},
   "source": [
    "# 2> Finding largest element in an array"
   ]
  },
  {
   "cell_type": "code",
   "execution_count": 7,
   "id": "decfaa09-dd64-45f8-a382-413c18494648",
   "metadata": {},
   "outputs": [],
   "source": [
    "def largest(arr):\n",
    "    arr.sort()\n",
    "    return arr[-1]"
   ]
  },
  {
   "cell_type": "code",
   "execution_count": 8,
   "id": "094c4927-3d5c-4d9c-bec3-30bec402158f",
   "metadata": {},
   "outputs": [
    {
     "data": {
      "text/plain": [
       "10"
      ]
     },
     "execution_count": 8,
     "metadata": {},
     "output_type": "execute_result"
    }
   ],
   "source": [
    "largest(arr)"
   ]
  },
  {
   "cell_type": "code",
   "execution_count": 9,
   "id": "08765582-14e7-4fc8-a047-a375de8b22f0",
   "metadata": {},
   "outputs": [],
   "source": [
    "def largest2(arr):\n",
    "    for _ in arr:\n",
    "        m = _\n",
    "        for i in arr:\n",
    "            if i>m:\n",
    "                m = i\n",
    "                break\n",
    "    return m"
   ]
  },
  {
   "cell_type": "code",
   "execution_count": 10,
   "id": "a325b388-36a0-4da3-8608-f126370f7a1f",
   "metadata": {},
   "outputs": [
    {
     "data": {
      "text/plain": [
       "10"
      ]
     },
     "execution_count": 10,
     "metadata": {},
     "output_type": "execute_result"
    }
   ],
   "source": [
    "largest2(arr)"
   ]
  },
  {
   "cell_type": "markdown",
   "id": "c1268dfa",
   "metadata": {},
   "source": [
    "# 3> Finding smallest number in an array"
   ]
  },
  {
   "cell_type": "code",
   "execution_count": 11,
   "id": "d6a0bf8a-4573-46a1-8b96-c2dd7c832554",
   "metadata": {},
   "outputs": [],
   "source": [
    "def smallest(arr):\n",
    "    arr.sort()\n",
    "    return arr[0]"
   ]
  },
  {
   "cell_type": "code",
   "execution_count": 12,
   "id": "34567741-b634-4329-a0b9-2814daaf948d",
   "metadata": {},
   "outputs": [
    {
     "data": {
      "text/plain": [
       "1"
      ]
     },
     "execution_count": 12,
     "metadata": {},
     "output_type": "execute_result"
    }
   ],
   "source": [
    "smallest(arr)"
   ]
  },
  {
   "cell_type": "code",
   "execution_count": 13,
   "id": "4d14a949-82ed-40db-8613-9a4c0034d2b1",
   "metadata": {},
   "outputs": [],
   "source": [
    "def smallest2(arr):\n",
    "    for _ in arr:\n",
    "        m = _\n",
    "        for __ in arr:\n",
    "            if __<m:\n",
    "                m = __\n",
    "                break\n",
    "    return m"
   ]
  },
  {
   "cell_type": "code",
   "execution_count": 14,
   "id": "8e150cfc-b4cf-4cfb-928e-633a08341785",
   "metadata": {},
   "outputs": [
    {
     "data": {
      "text/plain": [
       "1"
      ]
     },
     "execution_count": 14,
     "metadata": {},
     "output_type": "execute_result"
    }
   ],
   "source": [
    "smallest2(arr)"
   ]
  },
  {
   "cell_type": "markdown",
   "id": "bee4ee32",
   "metadata": {},
   "source": [
    "# 4> Reversing an array"
   ]
  },
  {
   "cell_type": "code",
   "execution_count": 15,
   "id": "e0be9f31-53b8-4475-bc4a-839c70e2cc97",
   "metadata": {},
   "outputs": [],
   "source": [
    "def reverse(arr):\n",
    "    return arr[::-1]"
   ]
  },
  {
   "cell_type": "code",
   "execution_count": 16,
   "id": "ef093d36-694e-4c99-8b2c-32d7e75fe5b1",
   "metadata": {},
   "outputs": [
    {
     "data": {
      "text/plain": [
       "array([10,  9,  8,  7,  6,  5,  4,  3,  2,  1])"
      ]
     },
     "execution_count": 16,
     "metadata": {},
     "output_type": "execute_result"
    }
   ],
   "source": [
    "reverse(arr)"
   ]
  },
  {
   "cell_type": "code",
   "execution_count": 17,
   "id": "77b182e5-f6bb-449e-b8f3-079b9dfbda3f",
   "metadata": {},
   "outputs": [],
   "source": [
    "def reverse2(arr):\n",
    "    arr2 = np.arange(len(arr))\n",
    "    for _ in range(len(arr)):\n",
    "        arr2[_] = arr[-_-1]\n",
    "    return arr2"
   ]
  },
  {
   "cell_type": "code",
   "execution_count": 18,
   "id": "343c4eaa-cb24-4489-94c2-f40a65a0dcdd",
   "metadata": {},
   "outputs": [
    {
     "data": {
      "text/plain": [
       "array([10,  9,  8,  7,  6,  5,  4,  3,  2,  1])"
      ]
     },
     "execution_count": 18,
     "metadata": {},
     "output_type": "execute_result"
    }
   ],
   "source": [
    "reverse2(arr)"
   ]
  },
  {
   "cell_type": "markdown",
   "id": "61bbdb3c",
   "metadata": {},
   "source": [
    "#  5> Rotating an array from kth position"
   ]
  },
  {
   "cell_type": "code",
   "execution_count": 19,
   "id": "91328c53-4eb4-4e89-b487-879077b9799c",
   "metadata": {},
   "outputs": [],
   "source": [
    "def rotate(arr,k):\n",
    "    i = np.where(arr == k)[0][0] # Index of k in arr\n",
    "    arr2 = np.arange(len(arr)) # Initaializing Empty array\n",
    "    for _ in range(len(arr)):\n",
    "        l = _-i\n",
    "        arr2[l] = arr[_]\n",
    "    return arr2"
   ]
  },
  {
   "cell_type": "code",
   "execution_count": 20,
   "id": "6a6355ab-06d4-4187-ab74-b0f761c56e93",
   "metadata": {},
   "outputs": [
    {
     "data": {
      "text/plain": [
       "array([ 4,  5,  6,  7,  8,  9, 10,  1,  2,  3])"
      ]
     },
     "execution_count": 20,
     "metadata": {},
     "output_type": "execute_result"
    }
   ],
   "source": [
    "rotate(arr, 4)"
   ]
  }
 ],
 "metadata": {
  "kernelspec": {
   "display_name": "Python 3 (ipykernel)",
   "language": "python",
   "name": "python3"
  },
  "language_info": {
   "codemirror_mode": {
    "name": "ipython",
    "version": 3
   },
   "file_extension": ".py",
   "mimetype": "text/x-python",
   "name": "python",
   "nbconvert_exporter": "python",
   "pygments_lexer": "ipython3",
   "version": "3.11.0"
  }
 },
 "nbformat": 4,
 "nbformat_minor": 5
}
