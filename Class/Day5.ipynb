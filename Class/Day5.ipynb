{
 "cells": [
  {
   "cell_type": "code",
   "execution_count": 1,
   "id": "bfb82c10-ed28-4895-a43d-6a259d237891",
   "metadata": {},
   "outputs": [],
   "source": [
    "def add(a,b):\n",
    "    print(a+b)"
   ]
  },
  {
   "cell_type": "code",
   "execution_count": 2,
   "id": "724c8645-f85c-4057-ac26-d818ceecd4ed",
   "metadata": {},
   "outputs": [],
   "source": [
    "def prime(x):\n",
    "    composite = False\n",
    "    for _ in range(2,int(x/2)):\n",
    "        if x%_==0:\n",
    "            composite = True\n",
    "            break\n",
    "    if composite:\n",
    "        print(\"Composite he\")\n",
    "    else:\n",
    "        print(\"Prime he\")"
   ]
  },
  {
   "cell_type": "code",
   "execution_count": 13,
   "id": "34017fd5-b658-4312-af31-5685083418f2",
   "metadata": {},
   "outputs": [],
   "source": [
    "def prime2(x):\n",
    "    composite = False\n",
    "    for _ in range(2,int(x/2)):\n",
    "        if x%_==0:\n",
    "            composite = True\n",
    "            break\n",
    "    if not composite:\n",
    "        print(\"{} is Prime\".format(x))"
   ]
  },
  {
   "cell_type": "code",
   "execution_count": 14,
   "id": "1acbbc37-de57-43ac-a5c6-8bed03e33b92",
   "metadata": {},
   "outputs": [
    {
     "name": "stdout",
     "output_type": "stream",
     "text": [
      "1 is Prime\n",
      "2 is Prime\n",
      "3 is Prime\n",
      "4 is Prime\n",
      "5 is Prime\n",
      "7 is Prime\n",
      "11 is Prime\n",
      "13 is Prime\n",
      "17 is Prime\n",
      "19 is Prime\n",
      "23 is Prime\n",
      "29 is Prime\n",
      "31 is Prime\n",
      "37 is Prime\n",
      "41 is Prime\n",
      "43 is Prime\n",
      "47 is Prime\n",
      "53 is Prime\n",
      "59 is Prime\n",
      "61 is Prime\n",
      "67 is Prime\n",
      "71 is Prime\n",
      "73 is Prime\n",
      "79 is Prime\n",
      "83 is Prime\n",
      "89 is Prime\n",
      "97 is Prime\n"
     ]
    }
   ],
   "source": [
    "for _ in range(1,101):\n",
    "    prime2(_)"
   ]
  },
  {
   "cell_type": "code",
   "execution_count": null,
   "id": "3b23c476-1043-4630-8557-a48033d5f708",
   "metadata": {},
   "outputs": [],
   "source": []
  }
 ],
 "metadata": {
  "kernelspec": {
   "display_name": "Python 3 (ipykernel)",
   "language": "python",
   "name": "python3"
  },
  "language_info": {
   "codemirror_mode": {
    "name": "ipython",
    "version": 3
   },
   "file_extension": ".py",
   "mimetype": "text/x-python",
   "name": "python",
   "nbconvert_exporter": "python",
   "pygments_lexer": "ipython3",
   "version": "3.11.0"
  }
 },
 "nbformat": 4,
 "nbformat_minor": 5
}
