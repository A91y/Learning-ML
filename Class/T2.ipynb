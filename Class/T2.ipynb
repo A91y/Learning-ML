{
 "cells": [
  {
   "cell_type": "code",
   "execution_count": 1,
   "id": "89def300-dcfc-408e-b0db-502fdac872a7",
   "metadata": {},
   "outputs": [],
   "source": [
    "import pandas as pd"
   ]
  },
  {
   "cell_type": "code",
   "execution_count": 2,
   "id": "94020208-d781-4f49-90cf-ef65ffe63da3",
   "metadata": {},
   "outputs": [],
   "source": [
    "df = pd.read_csv(\"new weather data.csv\")"
   ]
  },
  {
   "cell_type": "code",
   "execution_count": 3,
   "id": "7fb43eda-0d14-4e46-9ef7-d47dd347c102",
   "metadata": {},
   "outputs": [
    {
     "data": {
      "text/html": [
       "<div>\n",
       "<style scoped>\n",
       "    .dataframe tbody tr th:only-of-type {\n",
       "        vertical-align: middle;\n",
       "    }\n",
       "\n",
       "    .dataframe tbody tr th {\n",
       "        vertical-align: top;\n",
       "    }\n",
       "\n",
       "    .dataframe thead th {\n",
       "        text-align: right;\n",
       "    }\n",
       "</style>\n",
       "<table border=\"1\" class=\"dataframe\">\n",
       "  <thead>\n",
       "    <tr style=\"text-align: right;\">\n",
       "      <th></th>\n",
       "      <th>Day</th>\n",
       "      <th>Max Temperature</th>\n",
       "      <th>Min Temperature</th>\n",
       "      <th>Windspeed</th>\n",
       "      <th>Humidity</th>\n",
       "      <th>Event</th>\n",
       "    </tr>\n",
       "  </thead>\n",
       "  <tbody>\n",
       "    <tr>\n",
       "      <th>0</th>\n",
       "      <td>Monday</td>\n",
       "      <td>18</td>\n",
       "      <td>10</td>\n",
       "      <td>10</td>\n",
       "      <td>83</td>\n",
       "      <td>Rain</td>\n",
       "    </tr>\n",
       "    <tr>\n",
       "      <th>1</th>\n",
       "      <td>Tuesday</td>\n",
       "      <td>19</td>\n",
       "      <td>13</td>\n",
       "      <td>14</td>\n",
       "      <td>81</td>\n",
       "      <td>Thunderstorm</td>\n",
       "    </tr>\n",
       "    <tr>\n",
       "      <th>2</th>\n",
       "      <td>Wednesday</td>\n",
       "      <td>20</td>\n",
       "      <td>12</td>\n",
       "      <td>8</td>\n",
       "      <td>69</td>\n",
       "      <td>Rain</td>\n",
       "    </tr>\n",
       "    <tr>\n",
       "      <th>3</th>\n",
       "      <td>Thursday</td>\n",
       "      <td>20</td>\n",
       "      <td>8</td>\n",
       "      <td>14</td>\n",
       "      <td>57</td>\n",
       "      <td>Sunny</td>\n",
       "    </tr>\n",
       "    <tr>\n",
       "      <th>4</th>\n",
       "      <td>Friday</td>\n",
       "      <td>21</td>\n",
       "      <td>7</td>\n",
       "      <td>18</td>\n",
       "      <td>61</td>\n",
       "      <td>Fog</td>\n",
       "    </tr>\n",
       "    <tr>\n",
       "      <th>5</th>\n",
       "      <td>Saturday</td>\n",
       "      <td>16</td>\n",
       "      <td>11</td>\n",
       "      <td>11</td>\n",
       "      <td>61</td>\n",
       "      <td>Fog</td>\n",
       "    </tr>\n",
       "    <tr>\n",
       "      <th>6</th>\n",
       "      <td>Sunday</td>\n",
       "      <td>21</td>\n",
       "      <td>12</td>\n",
       "      <td>24</td>\n",
       "      <td>64</td>\n",
       "      <td>Rain</td>\n",
       "    </tr>\n",
       "  </tbody>\n",
       "</table>\n",
       "</div>"
      ],
      "text/plain": [
       "         Day  Max Temperature  Min Temperature  Windspeed  Humidity  \\\n",
       "0     Monday               18               10         10        83   \n",
       "1    Tuesday               19               13         14        81   \n",
       "2  Wednesday               20               12          8        69   \n",
       "3   Thursday               20                8         14        57   \n",
       "4     Friday               21                7         18        61   \n",
       "5   Saturday               16               11         11        61   \n",
       "6     Sunday               21               12         24        64   \n",
       "\n",
       "          Event  \n",
       "0          Rain  \n",
       "1  Thunderstorm  \n",
       "2          Rain  \n",
       "3         Sunny  \n",
       "4           Fog  \n",
       "5           Fog  \n",
       "6          Rain  "
      ]
     },
     "execution_count": 3,
     "metadata": {},
     "output_type": "execute_result"
    }
   ],
   "source": [
    "df"
   ]
  },
  {
   "cell_type": "code",
   "execution_count": 4,
   "id": "cdecd5aa-b93c-48a9-aa92-9cd50048cf3a",
   "metadata": {},
   "outputs": [],
   "source": [
    "columns = df.columns.to_list()"
   ]
  },
  {
   "cell_type": "code",
   "execution_count": 5,
   "id": "e78f5361-de4e-4dff-8ce3-63c9ce48c6d3",
   "metadata": {},
   "outputs": [
    {
     "data": {
      "text/plain": [
       "['Day', 'Max Temperature', 'Min Temperature', 'Windspeed', 'Humidity', 'Event']"
      ]
     },
     "execution_count": 5,
     "metadata": {},
     "output_type": "execute_result"
    }
   ],
   "source": [
    "columns"
   ]
  },
  {
   "cell_type": "code",
   "execution_count": 6,
   "id": "4fc1a042-2ae5-4183-89f9-a1eb92544d05",
   "metadata": {},
   "outputs": [
    {
     "data": {
      "text/plain": [
       "Day                object\n",
       "Max Temperature     int64\n",
       "Min Temperature     int64\n",
       "Windspeed           int64\n",
       "Humidity            int64\n",
       "Event              object\n",
       "dtype: object"
      ]
     },
     "execution_count": 6,
     "metadata": {},
     "output_type": "execute_result"
    }
   ],
   "source": [
    "df.dtypes"
   ]
  },
  {
   "cell_type": "code",
   "execution_count": 7,
   "id": "ecfe51d7-e855-404e-94c0-c495fd0144f3",
   "metadata": {},
   "outputs": [],
   "source": [
    "dtypes = df.dtypes.to_dict()"
   ]
  },
  {
   "cell_type": "code",
   "execution_count": 8,
   "id": "5598c076-4947-411e-abdd-f7143c393574",
   "metadata": {},
   "outputs": [
    {
     "data": {
      "text/plain": [
       "{'Day': dtype('O'),\n",
       " 'Max Temperature': dtype('int64'),\n",
       " 'Min Temperature': dtype('int64'),\n",
       " 'Windspeed': dtype('int64'),\n",
       " 'Humidity': dtype('int64'),\n",
       " 'Event': dtype('O')}"
      ]
     },
     "execution_count": 8,
     "metadata": {},
     "output_type": "execute_result"
    }
   ],
   "source": [
    "dtypes"
   ]
  },
  {
   "cell_type": "code",
   "execution_count": 10,
   "id": "e6f612cb-8b14-4326-9164-62748bfc3372",
   "metadata": {},
   "outputs": [],
   "source": [
    "for keys in dtypes:\n",
    "    if dtypes[keys] == object:\n",
    "        columns.remove(keys)"
   ]
  },
  {
   "cell_type": "code",
   "execution_count": 11,
   "id": "e035d359-3e58-4c26-b052-2ad4cfe55dc4",
   "metadata": {},
   "outputs": [
    {
     "data": {
      "text/plain": [
       "['Max Temperature', 'Min Temperature', 'Windspeed', 'Humidity']"
      ]
     },
     "execution_count": 11,
     "metadata": {},
     "output_type": "execute_result"
    }
   ],
   "source": [
    "columns"
   ]
  },
  {
   "cell_type": "code",
   "execution_count": 21,
   "id": "fd0b9468-786f-4119-a6ec-27e714d9edf0",
   "metadata": {},
   "outputs": [],
   "source": [
    "def Describe(df):\n",
    "    columns = df.columns.to_list()\n",
    "    dtypes = df.dtypes.to_dict()\n",
    "    # removing columns of type = 'string'\n",
    "    for keys in dtypes:\n",
    "        if dtypes[keys] == object:\n",
    "            columns.remove(keys)\n",
    "    # empty dictionary\n",
    "    dicti = {}\n",
    "    dicti['stats'] = 'mean'\n",
    "    for col in columns:\n",
    "        S = 0\n",
    "        lst = df[col].to_list()\n",
    "        n = len(df)\n",
    "        for i in range(len(df)):\n",
    "            S = S + lst[i]\n",
    "        mean = S/n\n",
    "        dicti[col] = mean\n",
    "    describe = pd.DataFrame(dicti, index=(1,1))\n",
    "    return describe"
   ]
  },
  {
   "cell_type": "code",
   "execution_count": 22,
   "id": "fb78bc76-111d-4c54-b1cb-253fd8bfaea3",
   "metadata": {},
   "outputs": [
    {
     "data": {
      "text/html": [
       "<div>\n",
       "<style scoped>\n",
       "    .dataframe tbody tr th:only-of-type {\n",
       "        vertical-align: middle;\n",
       "    }\n",
       "\n",
       "    .dataframe tbody tr th {\n",
       "        vertical-align: top;\n",
       "    }\n",
       "\n",
       "    .dataframe thead th {\n",
       "        text-align: right;\n",
       "    }\n",
       "</style>\n",
       "<table border=\"1\" class=\"dataframe\">\n",
       "  <thead>\n",
       "    <tr style=\"text-align: right;\">\n",
       "      <th></th>\n",
       "      <th>stats</th>\n",
       "      <th>Max Temperature</th>\n",
       "      <th>Min Temperature</th>\n",
       "      <th>Windspeed</th>\n",
       "      <th>Humidity</th>\n",
       "    </tr>\n",
       "  </thead>\n",
       "  <tbody>\n",
       "    <tr>\n",
       "      <th>1</th>\n",
       "      <td>mean</td>\n",
       "      <td>19.285714</td>\n",
       "      <td>10.428571</td>\n",
       "      <td>14.142857</td>\n",
       "      <td>68.0</td>\n",
       "    </tr>\n",
       "    <tr>\n",
       "      <th>1</th>\n",
       "      <td>mean</td>\n",
       "      <td>19.285714</td>\n",
       "      <td>10.428571</td>\n",
       "      <td>14.142857</td>\n",
       "      <td>68.0</td>\n",
       "    </tr>\n",
       "  </tbody>\n",
       "</table>\n",
       "</div>"
      ],
      "text/plain": [
       "  stats  Max Temperature  Min Temperature  Windspeed  Humidity\n",
       "1  mean        19.285714        10.428571  14.142857      68.0\n",
       "1  mean        19.285714        10.428571  14.142857      68.0"
      ]
     },
     "execution_count": 22,
     "metadata": {},
     "output_type": "execute_result"
    }
   ],
   "source": [
    "Describe(df)"
   ]
  },
  {
   "cell_type": "code",
   "execution_count": 23,
   "id": "8d0471b0-2fd1-450e-91e7-fe0caac95b25",
   "metadata": {},
   "outputs": [
    {
     "data": {
      "text/html": [
       "<div>\n",
       "<style scoped>\n",
       "    .dataframe tbody tr th:only-of-type {\n",
       "        vertical-align: middle;\n",
       "    }\n",
       "\n",
       "    .dataframe tbody tr th {\n",
       "        vertical-align: top;\n",
       "    }\n",
       "\n",
       "    .dataframe thead th {\n",
       "        text-align: right;\n",
       "    }\n",
       "</style>\n",
       "<table border=\"1\" class=\"dataframe\">\n",
       "  <thead>\n",
       "    <tr style=\"text-align: right;\">\n",
       "      <th></th>\n",
       "      <th>Max Temperature</th>\n",
       "      <th>Min Temperature</th>\n",
       "      <th>Windspeed</th>\n",
       "      <th>Humidity</th>\n",
       "    </tr>\n",
       "  </thead>\n",
       "  <tbody>\n",
       "    <tr>\n",
       "      <th>count</th>\n",
       "      <td>7.000000</td>\n",
       "      <td>7.000000</td>\n",
       "      <td>7.000000</td>\n",
       "      <td>7.000000</td>\n",
       "    </tr>\n",
       "    <tr>\n",
       "      <th>mean</th>\n",
       "      <td>19.285714</td>\n",
       "      <td>10.428571</td>\n",
       "      <td>14.142857</td>\n",
       "      <td>68.000000</td>\n",
       "    </tr>\n",
       "    <tr>\n",
       "      <th>std</th>\n",
       "      <td>1.799471</td>\n",
       "      <td>2.225395</td>\n",
       "      <td>5.429198</td>\n",
       "      <td>10.246951</td>\n",
       "    </tr>\n",
       "    <tr>\n",
       "      <th>min</th>\n",
       "      <td>16.000000</td>\n",
       "      <td>7.000000</td>\n",
       "      <td>8.000000</td>\n",
       "      <td>57.000000</td>\n",
       "    </tr>\n",
       "    <tr>\n",
       "      <th>25%</th>\n",
       "      <td>18.500000</td>\n",
       "      <td>9.000000</td>\n",
       "      <td>10.500000</td>\n",
       "      <td>61.000000</td>\n",
       "    </tr>\n",
       "    <tr>\n",
       "      <th>50%</th>\n",
       "      <td>20.000000</td>\n",
       "      <td>11.000000</td>\n",
       "      <td>14.000000</td>\n",
       "      <td>64.000000</td>\n",
       "    </tr>\n",
       "    <tr>\n",
       "      <th>75%</th>\n",
       "      <td>20.500000</td>\n",
       "      <td>12.000000</td>\n",
       "      <td>16.000000</td>\n",
       "      <td>75.000000</td>\n",
       "    </tr>\n",
       "    <tr>\n",
       "      <th>max</th>\n",
       "      <td>21.000000</td>\n",
       "      <td>13.000000</td>\n",
       "      <td>24.000000</td>\n",
       "      <td>83.000000</td>\n",
       "    </tr>\n",
       "  </tbody>\n",
       "</table>\n",
       "</div>"
      ],
      "text/plain": [
       "       Max Temperature  Min Temperature  Windspeed   Humidity\n",
       "count         7.000000         7.000000   7.000000   7.000000\n",
       "mean         19.285714        10.428571  14.142857  68.000000\n",
       "std           1.799471         2.225395   5.429198  10.246951\n",
       "min          16.000000         7.000000   8.000000  57.000000\n",
       "25%          18.500000         9.000000  10.500000  61.000000\n",
       "50%          20.000000        11.000000  14.000000  64.000000\n",
       "75%          20.500000        12.000000  16.000000  75.000000\n",
       "max          21.000000        13.000000  24.000000  83.000000"
      ]
     },
     "execution_count": 23,
     "metadata": {},
     "output_type": "execute_result"
    }
   ],
   "source": [
    "df.describe()"
   ]
  },
  {
   "cell_type": "code",
   "execution_count": null,
   "id": "0da96af2-5acb-4ec9-9a27-bd5ec859ba2e",
   "metadata": {},
   "outputs": [],
   "source": []
  }
 ],
 "metadata": {
  "kernelspec": {
   "display_name": "Python 3 (ipykernel)",
   "language": "python",
   "name": "python3"
  },
  "language_info": {
   "codemirror_mode": {
    "name": "ipython",
    "version": 3
   },
   "file_extension": ".py",
   "mimetype": "text/x-python",
   "name": "python",
   "nbconvert_exporter": "python",
   "pygments_lexer": "ipython3",
   "version": "3.11.0"
  }
 },
 "nbformat": 4,
 "nbformat_minor": 5
}
