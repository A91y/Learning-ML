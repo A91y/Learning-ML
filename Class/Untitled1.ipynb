{
 "cells": [
  {
   "cell_type": "markdown",
   "id": "88374fa5-96c2-4979-9ad7-ffaa732b1457",
   "metadata": {},
   "source": [
    "# 1 Feb 23"
   ]
  },
  {
   "cell_type": "code",
   "execution_count": 1,
   "id": "dab618fb-1c11-4abf-804f-37e6ce270679",
   "metadata": {},
   "outputs": [],
   "source": [
    "import pandas as pd"
   ]
  },
  {
   "cell_type": "markdown",
   "id": "1350b7c5-f7f4-4039-bce7-a99276a910e2",
   "metadata": {},
   "source": [
    "#  Series"
   ]
  },
  {
   "cell_type": "code",
   "execution_count": 2,
   "id": "444990eb-6029-4066-bfab-7cfda046863a",
   "metadata": {},
   "outputs": [
    {
     "name": "stdout",
     "output_type": "stream",
     "text": [
      "0       Monday\n",
      "1      Tuesday\n",
      "2    Wednesday\n",
      "3     Thursday\n",
      "4       Friday\n",
      "5     Saturday\n",
      "6       Sunday\n",
      "dtype: object\n"
     ]
    }
   ],
   "source": [
    "# creating a series\n",
    "days = [\"Monday\", \"Tuesday\", \"Wednesday\", \"Thursday\", \"Friday\", \"Saturday\", \"Sunday\"]\n",
    "my_series = pd.Series(days)\n",
    "print(my_series)"
   ]
  },
  {
   "cell_type": "code",
   "execution_count": 3,
   "id": "433aacc4-4c79-4ca7-8f20-6c5b0bbaff4b",
   "metadata": {},
   "outputs": [
    {
     "name": "stdout",
     "output_type": "stream",
     "text": [
      "1       Monday\n",
      "2      Tuesday\n",
      "3    Wednesday\n",
      "4     Thursday\n",
      "5       Friday\n",
      "6     Saturday\n",
      "7       Sunday\n",
      "dtype: object\n"
     ]
    }
   ],
   "source": [
    "# creating a series\n",
    "days = [\"Monday\", \"Tuesday\", \"Wednesday\", \"Thursday\", \"Friday\", \"Saturday\", \"Sunday\"]\n",
    "my_series = pd.Series(days, index=range(1,8))\n",
    "print(my_series)"
   ]
  },
  {
   "cell_type": "code",
   "execution_count": 4,
   "id": "38f24965-d8a8-4ce4-8c1c-d2aec6c722b6",
   "metadata": {},
   "outputs": [
    {
     "data": {
      "text/plain": [
       "1       Monday\n",
       "2      Tuesday\n",
       "3    Wednesday\n",
       "4     Thursday\n",
       "5       Friday\n",
       "6     Saturday\n",
       "7       Sunday\n",
       "dtype: object"
      ]
     },
     "execution_count": 4,
     "metadata": {},
     "output_type": "execute_result"
    }
   ],
   "source": [
    "# creating series using dictionary\n",
    "dict = {\"1\":\"Monday\", \"2\":\"Tuesday\", \"3\":\"Wednesday\", \"4\":\"Thursday\", \"5\": \"Friday\", \"6\":\"Saturday\", \"7\":\"Sunday\"}\n",
    "ser = pd.Series(dict)\n",
    "ser"
   ]
  },
  {
   "cell_type": "markdown",
   "id": "2e43edfb-0b3a-434b-ae04-333d3a0b5604",
   "metadata": {},
   "source": [
    "# Dataframe"
   ]
  },
  {
   "cell_type": "code",
   "execution_count": 5,
   "id": "d7ebb6bb-232f-4249-878c-cc31783c2ff5",
   "metadata": {},
   "outputs": [
    {
     "data": {
      "text/html": [
       "<div>\n",
       "<style scoped>\n",
       "    .dataframe tbody tr th:only-of-type {\n",
       "        vertical-align: middle;\n",
       "    }\n",
       "\n",
       "    .dataframe tbody tr th {\n",
       "        vertical-align: top;\n",
       "    }\n",
       "\n",
       "    .dataframe thead th {\n",
       "        text-align: right;\n",
       "    }\n",
       "</style>\n",
       "<table border=\"1\" class=\"dataframe\">\n",
       "  <thead>\n",
       "    <tr style=\"text-align: right;\">\n",
       "      <th></th>\n",
       "      <th>0</th>\n",
       "    </tr>\n",
       "  </thead>\n",
       "  <tbody>\n",
       "    <tr>\n",
       "      <th>0</th>\n",
       "      <td>Monday</td>\n",
       "    </tr>\n",
       "    <tr>\n",
       "      <th>1</th>\n",
       "      <td>Tuesday</td>\n",
       "    </tr>\n",
       "    <tr>\n",
       "      <th>2</th>\n",
       "      <td>Wednesday</td>\n",
       "    </tr>\n",
       "    <tr>\n",
       "      <th>3</th>\n",
       "      <td>Thursday</td>\n",
       "    </tr>\n",
       "    <tr>\n",
       "      <th>4</th>\n",
       "      <td>Friday</td>\n",
       "    </tr>\n",
       "    <tr>\n",
       "      <th>5</th>\n",
       "      <td>Saturday</td>\n",
       "    </tr>\n",
       "    <tr>\n",
       "      <th>6</th>\n",
       "      <td>Sunday</td>\n",
       "    </tr>\n",
       "  </tbody>\n",
       "</table>\n",
       "</div>"
      ],
      "text/plain": [
       "           0\n",
       "0     Monday\n",
       "1    Tuesday\n",
       "2  Wednesday\n",
       "3   Thursday\n",
       "4     Friday\n",
       "5   Saturday\n",
       "6     Sunday"
      ]
     },
     "execution_count": 5,
     "metadata": {},
     "output_type": "execute_result"
    }
   ],
   "source": [
    "# creating a dataframe\n",
    "days = [\"Monday\", \"Tuesday\", \"Wednesday\", \"Thursday\", \"Friday\", \"Saturday\", \"Sunday\"]\n",
    "my_df = pd.DataFrame(days)\n",
    "my_df"
   ]
  },
  {
   "cell_type": "code",
   "execution_count": 6,
   "id": "905ecf2b-16b8-4063-8c00-5523a3711932",
   "metadata": {},
   "outputs": [],
   "source": [
    "# creating a dataframe using a dictionary\n",
    "max_temp = [18,19,20,20,21,16,21]\n",
    "min_temp = [10,13,12, 8, 7,11,12]\n",
    "event = ['Rain', 'Thunderstorm', 'Rain', 'Sunny', 'Fog', 'Fog', 'Rain']\n",
    "windspeed = [10,14,8,14,18,11,24]\n",
    "weather = {'Day': days, 'Max Temperature': max_temp, 'Min Temperature': min_temp, 'Windspeed': windspeed, 'Event': event}\n",
    "df = pd.DataFrame(weather,index=range(1,8))"
   ]
  },
  {
   "cell_type": "code",
   "execution_count": 7,
   "id": "171b8045-6d95-4a5a-b2ed-e13ad4cad49e",
   "metadata": {},
   "outputs": [
    {
     "data": {
      "text/html": [
       "<div>\n",
       "<style scoped>\n",
       "    .dataframe tbody tr th:only-of-type {\n",
       "        vertical-align: middle;\n",
       "    }\n",
       "\n",
       "    .dataframe tbody tr th {\n",
       "        vertical-align: top;\n",
       "    }\n",
       "\n",
       "    .dataframe thead th {\n",
       "        text-align: right;\n",
       "    }\n",
       "</style>\n",
       "<table border=\"1\" class=\"dataframe\">\n",
       "  <thead>\n",
       "    <tr style=\"text-align: right;\">\n",
       "      <th></th>\n",
       "      <th>Day</th>\n",
       "      <th>Max Temperature</th>\n",
       "      <th>Min Temperature</th>\n",
       "      <th>Windspeed</th>\n",
       "      <th>Event</th>\n",
       "    </tr>\n",
       "  </thead>\n",
       "  <tbody>\n",
       "    <tr>\n",
       "      <th>1</th>\n",
       "      <td>Monday</td>\n",
       "      <td>18</td>\n",
       "      <td>10</td>\n",
       "      <td>10</td>\n",
       "      <td>Rain</td>\n",
       "    </tr>\n",
       "    <tr>\n",
       "      <th>2</th>\n",
       "      <td>Tuesday</td>\n",
       "      <td>19</td>\n",
       "      <td>13</td>\n",
       "      <td>14</td>\n",
       "      <td>Thunderstorm</td>\n",
       "    </tr>\n",
       "    <tr>\n",
       "      <th>3</th>\n",
       "      <td>Wednesday</td>\n",
       "      <td>20</td>\n",
       "      <td>12</td>\n",
       "      <td>8</td>\n",
       "      <td>Rain</td>\n",
       "    </tr>\n",
       "    <tr>\n",
       "      <th>4</th>\n",
       "      <td>Thursday</td>\n",
       "      <td>20</td>\n",
       "      <td>8</td>\n",
       "      <td>14</td>\n",
       "      <td>Sunny</td>\n",
       "    </tr>\n",
       "    <tr>\n",
       "      <th>5</th>\n",
       "      <td>Friday</td>\n",
       "      <td>21</td>\n",
       "      <td>7</td>\n",
       "      <td>18</td>\n",
       "      <td>Fog</td>\n",
       "    </tr>\n",
       "    <tr>\n",
       "      <th>6</th>\n",
       "      <td>Saturday</td>\n",
       "      <td>16</td>\n",
       "      <td>11</td>\n",
       "      <td>11</td>\n",
       "      <td>Fog</td>\n",
       "    </tr>\n",
       "    <tr>\n",
       "      <th>7</th>\n",
       "      <td>Sunday</td>\n",
       "      <td>21</td>\n",
       "      <td>12</td>\n",
       "      <td>24</td>\n",
       "      <td>Rain</td>\n",
       "    </tr>\n",
       "  </tbody>\n",
       "</table>\n",
       "</div>"
      ],
      "text/plain": [
       "         Day  Max Temperature  Min Temperature  Windspeed         Event\n",
       "1     Monday               18               10         10          Rain\n",
       "2    Tuesday               19               13         14  Thunderstorm\n",
       "3  Wednesday               20               12          8          Rain\n",
       "4   Thursday               20                8         14         Sunny\n",
       "5     Friday               21                7         18           Fog\n",
       "6   Saturday               16               11         11           Fog\n",
       "7     Sunday               21               12         24          Rain"
      ]
     },
     "execution_count": 7,
     "metadata": {},
     "output_type": "execute_result"
    }
   ],
   "source": [
    "df"
   ]
  },
  {
   "cell_type": "code",
   "execution_count": 8,
   "id": "bda4617b-b806-4eda-b9de-a5529a389575",
   "metadata": {},
   "outputs": [
    {
     "data": {
      "text/plain": [
       "pandas.core.frame.DataFrame"
      ]
     },
     "execution_count": 8,
     "metadata": {},
     "output_type": "execute_result"
    }
   ],
   "source": [
    "type(df)"
   ]
  },
  {
   "cell_type": "markdown",
   "id": "18373edc-f186-4f72-a52f-fc65bef7517c",
   "metadata": {},
   "source": [
    "## Exporting Dataframe to a csv file"
   ]
  },
  {
   "cell_type": "code",
   "execution_count": 9,
   "id": "a10007bc-add7-495f-bfb5-8901dade071a",
   "metadata": {},
   "outputs": [],
   "source": [
    "df.to_csv('weather_data.csv')"
   ]
  },
  {
   "cell_type": "markdown",
   "id": "0aa17435-5aec-4f2b-930f-ee41a400f8c8",
   "metadata": {},
   "source": [
    "## Importing from a csv file"
   ]
  },
  {
   "cell_type": "code",
   "execution_count": 10,
   "id": "5d6d79e0-19c2-4610-b26f-4dc4f94822ca",
   "metadata": {},
   "outputs": [],
   "source": [
    "new_df = pd.read_csv('new weather data.csv')"
   ]
  },
  {
   "cell_type": "code",
   "execution_count": 11,
   "id": "2ff55643-1fc9-4bcd-90ec-ffd92ea84fa9",
   "metadata": {},
   "outputs": [
    {
     "data": {
      "text/html": [
       "<div>\n",
       "<style scoped>\n",
       "    .dataframe tbody tr th:only-of-type {\n",
       "        vertical-align: middle;\n",
       "    }\n",
       "\n",
       "    .dataframe tbody tr th {\n",
       "        vertical-align: top;\n",
       "    }\n",
       "\n",
       "    .dataframe thead th {\n",
       "        text-align: right;\n",
       "    }\n",
       "</style>\n",
       "<table border=\"1\" class=\"dataframe\">\n",
       "  <thead>\n",
       "    <tr style=\"text-align: right;\">\n",
       "      <th></th>\n",
       "      <th>Day</th>\n",
       "      <th>Max Temperature</th>\n",
       "      <th>Min Temperature</th>\n",
       "      <th>Windspeed</th>\n",
       "      <th>Humidity</th>\n",
       "      <th>Event</th>\n",
       "    </tr>\n",
       "  </thead>\n",
       "  <tbody>\n",
       "    <tr>\n",
       "      <th>0</th>\n",
       "      <td>Monday</td>\n",
       "      <td>18</td>\n",
       "      <td>10</td>\n",
       "      <td>10</td>\n",
       "      <td>83</td>\n",
       "      <td>Rain</td>\n",
       "    </tr>\n",
       "    <tr>\n",
       "      <th>1</th>\n",
       "      <td>Tuesday</td>\n",
       "      <td>19</td>\n",
       "      <td>13</td>\n",
       "      <td>14</td>\n",
       "      <td>81</td>\n",
       "      <td>Thunderstorm</td>\n",
       "    </tr>\n",
       "    <tr>\n",
       "      <th>2</th>\n",
       "      <td>Wednesday</td>\n",
       "      <td>20</td>\n",
       "      <td>12</td>\n",
       "      <td>8</td>\n",
       "      <td>69</td>\n",
       "      <td>Rain</td>\n",
       "    </tr>\n",
       "    <tr>\n",
       "      <th>3</th>\n",
       "      <td>Thursday</td>\n",
       "      <td>20</td>\n",
       "      <td>8</td>\n",
       "      <td>14</td>\n",
       "      <td>57</td>\n",
       "      <td>Sunny</td>\n",
       "    </tr>\n",
       "    <tr>\n",
       "      <th>4</th>\n",
       "      <td>Friday</td>\n",
       "      <td>21</td>\n",
       "      <td>7</td>\n",
       "      <td>18</td>\n",
       "      <td>61</td>\n",
       "      <td>Fog</td>\n",
       "    </tr>\n",
       "    <tr>\n",
       "      <th>5</th>\n",
       "      <td>Saturday</td>\n",
       "      <td>16</td>\n",
       "      <td>11</td>\n",
       "      <td>11</td>\n",
       "      <td>61</td>\n",
       "      <td>Fog</td>\n",
       "    </tr>\n",
       "    <tr>\n",
       "      <th>6</th>\n",
       "      <td>Sunday</td>\n",
       "      <td>21</td>\n",
       "      <td>12</td>\n",
       "      <td>24</td>\n",
       "      <td>64</td>\n",
       "      <td>Rain</td>\n",
       "    </tr>\n",
       "  </tbody>\n",
       "</table>\n",
       "</div>"
      ],
      "text/plain": [
       "         Day  Max Temperature  Min Temperature  Windspeed  Humidity  \\\n",
       "0     Monday               18               10         10        83   \n",
       "1    Tuesday               19               13         14        81   \n",
       "2  Wednesday               20               12          8        69   \n",
       "3   Thursday               20                8         14        57   \n",
       "4     Friday               21                7         18        61   \n",
       "5   Saturday               16               11         11        61   \n",
       "6     Sunday               21               12         24        64   \n",
       "\n",
       "          Event  \n",
       "0          Rain  \n",
       "1  Thunderstorm  \n",
       "2          Rain  \n",
       "3         Sunny  \n",
       "4           Fog  \n",
       "5           Fog  \n",
       "6          Rain  "
      ]
     },
     "execution_count": 11,
     "metadata": {},
     "output_type": "execute_result"
    }
   ],
   "source": [
    "new_df"
   ]
  },
  {
   "cell_type": "code",
   "execution_count": 12,
   "id": "1e807175-cff2-4635-96ef-62b98d9a5694",
   "metadata": {},
   "outputs": [
    {
     "data": {
      "text/plain": [
       "(7, 6)"
      ]
     },
     "execution_count": 12,
     "metadata": {},
     "output_type": "execute_result"
    }
   ],
   "source": [
    "new_df.shape"
   ]
  },
  {
   "cell_type": "code",
   "execution_count": 13,
   "id": "7ec4fb07-4d85-41d7-b051-925a683ce299",
   "metadata": {},
   "outputs": [
    {
     "name": "stdout",
     "output_type": "stream",
     "text": [
      "No of rows = 7\n",
      "No of rows = 6\n"
     ]
    }
   ],
   "source": [
    "a, b = new_df.shape\n",
    "print(f\"No of rows = {a}\\nNo of rows = {b}\")"
   ]
  },
  {
   "cell_type": "markdown",
   "id": "e83df479-aa07-4092-916d-c56a496d0ced",
   "metadata": {},
   "source": [
    "### Rows"
   ]
  },
  {
   "cell_type": "code",
   "execution_count": 14,
   "id": "e72b7916-ad5a-4f09-9766-7fea346424c4",
   "metadata": {},
   "outputs": [
    {
     "data": {
      "text/html": [
       "<div>\n",
       "<style scoped>\n",
       "    .dataframe tbody tr th:only-of-type {\n",
       "        vertical-align: middle;\n",
       "    }\n",
       "\n",
       "    .dataframe tbody tr th {\n",
       "        vertical-align: top;\n",
       "    }\n",
       "\n",
       "    .dataframe thead th {\n",
       "        text-align: right;\n",
       "    }\n",
       "</style>\n",
       "<table border=\"1\" class=\"dataframe\">\n",
       "  <thead>\n",
       "    <tr style=\"text-align: right;\">\n",
       "      <th></th>\n",
       "      <th>Day</th>\n",
       "      <th>Max Temperature</th>\n",
       "      <th>Min Temperature</th>\n",
       "      <th>Windspeed</th>\n",
       "      <th>Humidity</th>\n",
       "      <th>Event</th>\n",
       "    </tr>\n",
       "  </thead>\n",
       "  <tbody>\n",
       "    <tr>\n",
       "      <th>0</th>\n",
       "      <td>Monday</td>\n",
       "      <td>18</td>\n",
       "      <td>10</td>\n",
       "      <td>10</td>\n",
       "      <td>83</td>\n",
       "      <td>Rain</td>\n",
       "    </tr>\n",
       "    <tr>\n",
       "      <th>1</th>\n",
       "      <td>Tuesday</td>\n",
       "      <td>19</td>\n",
       "      <td>13</td>\n",
       "      <td>14</td>\n",
       "      <td>81</td>\n",
       "      <td>Thunderstorm</td>\n",
       "    </tr>\n",
       "    <tr>\n",
       "      <th>2</th>\n",
       "      <td>Wednesday</td>\n",
       "      <td>20</td>\n",
       "      <td>12</td>\n",
       "      <td>8</td>\n",
       "      <td>69</td>\n",
       "      <td>Rain</td>\n",
       "    </tr>\n",
       "    <tr>\n",
       "      <th>3</th>\n",
       "      <td>Thursday</td>\n",
       "      <td>20</td>\n",
       "      <td>8</td>\n",
       "      <td>14</td>\n",
       "      <td>57</td>\n",
       "      <td>Sunny</td>\n",
       "    </tr>\n",
       "    <tr>\n",
       "      <th>4</th>\n",
       "      <td>Friday</td>\n",
       "      <td>21</td>\n",
       "      <td>7</td>\n",
       "      <td>18</td>\n",
       "      <td>61</td>\n",
       "      <td>Fog</td>\n",
       "    </tr>\n",
       "  </tbody>\n",
       "</table>\n",
       "</div>"
      ],
      "text/plain": [
       "         Day  Max Temperature  Min Temperature  Windspeed  Humidity  \\\n",
       "0     Monday               18               10         10        83   \n",
       "1    Tuesday               19               13         14        81   \n",
       "2  Wednesday               20               12          8        69   \n",
       "3   Thursday               20                8         14        57   \n",
       "4     Friday               21                7         18        61   \n",
       "\n",
       "          Event  \n",
       "0          Rain  \n",
       "1  Thunderstorm  \n",
       "2          Rain  \n",
       "3         Sunny  \n",
       "4           Fog  "
      ]
     },
     "execution_count": 14,
     "metadata": {},
     "output_type": "execute_result"
    }
   ],
   "source": [
    "new_df.head()"
   ]
  },
  {
   "cell_type": "code",
   "execution_count": 15,
   "id": "078ebaff-5bc4-4cee-9a35-5f410bc1a954",
   "metadata": {},
   "outputs": [
    {
     "data": {
      "text/html": [
       "<div>\n",
       "<style scoped>\n",
       "    .dataframe tbody tr th:only-of-type {\n",
       "        vertical-align: middle;\n",
       "    }\n",
       "\n",
       "    .dataframe tbody tr th {\n",
       "        vertical-align: top;\n",
       "    }\n",
       "\n",
       "    .dataframe thead th {\n",
       "        text-align: right;\n",
       "    }\n",
       "</style>\n",
       "<table border=\"1\" class=\"dataframe\">\n",
       "  <thead>\n",
       "    <tr style=\"text-align: right;\">\n",
       "      <th></th>\n",
       "      <th>Day</th>\n",
       "      <th>Max Temperature</th>\n",
       "      <th>Min Temperature</th>\n",
       "      <th>Windspeed</th>\n",
       "      <th>Humidity</th>\n",
       "      <th>Event</th>\n",
       "    </tr>\n",
       "  </thead>\n",
       "  <tbody>\n",
       "    <tr>\n",
       "      <th>0</th>\n",
       "      <td>Monday</td>\n",
       "      <td>18</td>\n",
       "      <td>10</td>\n",
       "      <td>10</td>\n",
       "      <td>83</td>\n",
       "      <td>Rain</td>\n",
       "    </tr>\n",
       "    <tr>\n",
       "      <th>1</th>\n",
       "      <td>Tuesday</td>\n",
       "      <td>19</td>\n",
       "      <td>13</td>\n",
       "      <td>14</td>\n",
       "      <td>81</td>\n",
       "      <td>Thunderstorm</td>\n",
       "    </tr>\n",
       "    <tr>\n",
       "      <th>2</th>\n",
       "      <td>Wednesday</td>\n",
       "      <td>20</td>\n",
       "      <td>12</td>\n",
       "      <td>8</td>\n",
       "      <td>69</td>\n",
       "      <td>Rain</td>\n",
       "    </tr>\n",
       "  </tbody>\n",
       "</table>\n",
       "</div>"
      ],
      "text/plain": [
       "         Day  Max Temperature  Min Temperature  Windspeed  Humidity  \\\n",
       "0     Monday               18               10         10        83   \n",
       "1    Tuesday               19               13         14        81   \n",
       "2  Wednesday               20               12          8        69   \n",
       "\n",
       "          Event  \n",
       "0          Rain  \n",
       "1  Thunderstorm  \n",
       "2          Rain  "
      ]
     },
     "execution_count": 15,
     "metadata": {},
     "output_type": "execute_result"
    }
   ],
   "source": [
    "new_df.head(3)"
   ]
  },
  {
   "cell_type": "code",
   "execution_count": 16,
   "id": "55af3013-e4b0-4ff0-bd91-7d440bbd17ed",
   "metadata": {},
   "outputs": [
    {
     "data": {
      "text/html": [
       "<div>\n",
       "<style scoped>\n",
       "    .dataframe tbody tr th:only-of-type {\n",
       "        vertical-align: middle;\n",
       "    }\n",
       "\n",
       "    .dataframe tbody tr th {\n",
       "        vertical-align: top;\n",
       "    }\n",
       "\n",
       "    .dataframe thead th {\n",
       "        text-align: right;\n",
       "    }\n",
       "</style>\n",
       "<table border=\"1\" class=\"dataframe\">\n",
       "  <thead>\n",
       "    <tr style=\"text-align: right;\">\n",
       "      <th></th>\n",
       "      <th>Day</th>\n",
       "      <th>Max Temperature</th>\n",
       "      <th>Min Temperature</th>\n",
       "      <th>Windspeed</th>\n",
       "      <th>Humidity</th>\n",
       "      <th>Event</th>\n",
       "    </tr>\n",
       "  </thead>\n",
       "  <tbody>\n",
       "    <tr>\n",
       "      <th>2</th>\n",
       "      <td>Wednesday</td>\n",
       "      <td>20</td>\n",
       "      <td>12</td>\n",
       "      <td>8</td>\n",
       "      <td>69</td>\n",
       "      <td>Rain</td>\n",
       "    </tr>\n",
       "    <tr>\n",
       "      <th>3</th>\n",
       "      <td>Thursday</td>\n",
       "      <td>20</td>\n",
       "      <td>8</td>\n",
       "      <td>14</td>\n",
       "      <td>57</td>\n",
       "      <td>Sunny</td>\n",
       "    </tr>\n",
       "    <tr>\n",
       "      <th>4</th>\n",
       "      <td>Friday</td>\n",
       "      <td>21</td>\n",
       "      <td>7</td>\n",
       "      <td>18</td>\n",
       "      <td>61</td>\n",
       "      <td>Fog</td>\n",
       "    </tr>\n",
       "    <tr>\n",
       "      <th>5</th>\n",
       "      <td>Saturday</td>\n",
       "      <td>16</td>\n",
       "      <td>11</td>\n",
       "      <td>11</td>\n",
       "      <td>61</td>\n",
       "      <td>Fog</td>\n",
       "    </tr>\n",
       "    <tr>\n",
       "      <th>6</th>\n",
       "      <td>Sunday</td>\n",
       "      <td>21</td>\n",
       "      <td>12</td>\n",
       "      <td>24</td>\n",
       "      <td>64</td>\n",
       "      <td>Rain</td>\n",
       "    </tr>\n",
       "  </tbody>\n",
       "</table>\n",
       "</div>"
      ],
      "text/plain": [
       "         Day  Max Temperature  Min Temperature  Windspeed  Humidity  Event\n",
       "2  Wednesday               20               12          8        69   Rain\n",
       "3   Thursday               20                8         14        57  Sunny\n",
       "4     Friday               21                7         18        61    Fog\n",
       "5   Saturday               16               11         11        61    Fog\n",
       "6     Sunday               21               12         24        64   Rain"
      ]
     },
     "execution_count": 16,
     "metadata": {},
     "output_type": "execute_result"
    }
   ],
   "source": [
    "new_df.tail()"
   ]
  },
  {
   "cell_type": "code",
   "execution_count": 17,
   "id": "9abc0335-3606-4e32-aa3f-c422aa008266",
   "metadata": {},
   "outputs": [
    {
     "data": {
      "text/html": [
       "<div>\n",
       "<style scoped>\n",
       "    .dataframe tbody tr th:only-of-type {\n",
       "        vertical-align: middle;\n",
       "    }\n",
       "\n",
       "    .dataframe tbody tr th {\n",
       "        vertical-align: top;\n",
       "    }\n",
       "\n",
       "    .dataframe thead th {\n",
       "        text-align: right;\n",
       "    }\n",
       "</style>\n",
       "<table border=\"1\" class=\"dataframe\">\n",
       "  <thead>\n",
       "    <tr style=\"text-align: right;\">\n",
       "      <th></th>\n",
       "      <th>Day</th>\n",
       "      <th>Max Temperature</th>\n",
       "      <th>Min Temperature</th>\n",
       "      <th>Windspeed</th>\n",
       "      <th>Humidity</th>\n",
       "      <th>Event</th>\n",
       "    </tr>\n",
       "  </thead>\n",
       "  <tbody>\n",
       "    <tr>\n",
       "      <th>4</th>\n",
       "      <td>Friday</td>\n",
       "      <td>21</td>\n",
       "      <td>7</td>\n",
       "      <td>18</td>\n",
       "      <td>61</td>\n",
       "      <td>Fog</td>\n",
       "    </tr>\n",
       "    <tr>\n",
       "      <th>5</th>\n",
       "      <td>Saturday</td>\n",
       "      <td>16</td>\n",
       "      <td>11</td>\n",
       "      <td>11</td>\n",
       "      <td>61</td>\n",
       "      <td>Fog</td>\n",
       "    </tr>\n",
       "    <tr>\n",
       "      <th>6</th>\n",
       "      <td>Sunday</td>\n",
       "      <td>21</td>\n",
       "      <td>12</td>\n",
       "      <td>24</td>\n",
       "      <td>64</td>\n",
       "      <td>Rain</td>\n",
       "    </tr>\n",
       "  </tbody>\n",
       "</table>\n",
       "</div>"
      ],
      "text/plain": [
       "        Day  Max Temperature  Min Temperature  Windspeed  Humidity Event\n",
       "4    Friday               21                7         18        61   Fog\n",
       "5  Saturday               16               11         11        61   Fog\n",
       "6    Sunday               21               12         24        64  Rain"
      ]
     },
     "execution_count": 17,
     "metadata": {},
     "output_type": "execute_result"
    }
   ],
   "source": [
    "new_df.tail(3)"
   ]
  },
  {
   "cell_type": "markdown",
   "id": "db829978-378e-42a7-8f07-16621493d145",
   "metadata": {},
   "source": [
    "### Columns"
   ]
  },
  {
   "cell_type": "code",
   "execution_count": 18,
   "id": "e3ad4336-39ca-4bc0-9f1a-2208222c5cbc",
   "metadata": {},
   "outputs": [
    {
     "data": {
      "text/plain": [
       "Index(['Day', 'Max Temperature', 'Min Temperature', 'Windspeed', 'Humidity',\n",
       "       'Event'],\n",
       "      dtype='object')"
      ]
     },
     "execution_count": 18,
     "metadata": {},
     "output_type": "execute_result"
    }
   ],
   "source": [
    "new_df.columns"
   ]
  },
  {
   "cell_type": "code",
   "execution_count": 19,
   "id": "9b6da05b-790f-4f78-9506-51c449156363",
   "metadata": {},
   "outputs": [
    {
     "data": {
      "text/plain": [
       "0    83\n",
       "1    81\n",
       "2    69\n",
       "3    57\n",
       "4    61\n",
       "5    61\n",
       "6    64\n",
       "Name: Humidity, dtype: int64"
      ]
     },
     "execution_count": 19,
     "metadata": {},
     "output_type": "execute_result"
    }
   ],
   "source": [
    "new_df.Humidity"
   ]
  },
  {
   "cell_type": "code",
   "execution_count": 20,
   "id": "9ac778ad-218c-43ee-bda3-52ebacf2d89c",
   "metadata": {},
   "outputs": [
    {
     "data": {
      "text/plain": [
       "pandas.core.series.Series"
      ]
     },
     "execution_count": 20,
     "metadata": {},
     "output_type": "execute_result"
    }
   ],
   "source": [
    "type(new_df['Humidity'])"
   ]
  },
  {
   "cell_type": "markdown",
   "id": "c3cbdd52-f6a2-42b8-8bc6-b6d71a26ee36",
   "metadata": {},
   "source": [
    "# 2 Feb 23"
   ]
  },
  {
   "cell_type": "code",
   "execution_count": 21,
   "id": "e94f5e84-090c-4c98-9400-301480e2f600",
   "metadata": {},
   "outputs": [
    {
     "data": {
      "text/html": [
       "<div>\n",
       "<style scoped>\n",
       "    .dataframe tbody tr th:only-of-type {\n",
       "        vertical-align: middle;\n",
       "    }\n",
       "\n",
       "    .dataframe tbody tr th {\n",
       "        vertical-align: top;\n",
       "    }\n",
       "\n",
       "    .dataframe thead th {\n",
       "        text-align: right;\n",
       "    }\n",
       "</style>\n",
       "<table border=\"1\" class=\"dataframe\">\n",
       "  <thead>\n",
       "    <tr style=\"text-align: right;\">\n",
       "      <th></th>\n",
       "      <th>Humidity</th>\n",
       "      <th>Windspeed</th>\n",
       "    </tr>\n",
       "  </thead>\n",
       "  <tbody>\n",
       "    <tr>\n",
       "      <th>0</th>\n",
       "      <td>83</td>\n",
       "      <td>10</td>\n",
       "    </tr>\n",
       "    <tr>\n",
       "      <th>1</th>\n",
       "      <td>81</td>\n",
       "      <td>14</td>\n",
       "    </tr>\n",
       "    <tr>\n",
       "      <th>2</th>\n",
       "      <td>69</td>\n",
       "      <td>8</td>\n",
       "    </tr>\n",
       "    <tr>\n",
       "      <th>3</th>\n",
       "      <td>57</td>\n",
       "      <td>14</td>\n",
       "    </tr>\n",
       "    <tr>\n",
       "      <th>4</th>\n",
       "      <td>61</td>\n",
       "      <td>18</td>\n",
       "    </tr>\n",
       "    <tr>\n",
       "      <th>5</th>\n",
       "      <td>61</td>\n",
       "      <td>11</td>\n",
       "    </tr>\n",
       "    <tr>\n",
       "      <th>6</th>\n",
       "      <td>64</td>\n",
       "      <td>24</td>\n",
       "    </tr>\n",
       "  </tbody>\n",
       "</table>\n",
       "</div>"
      ],
      "text/plain": [
       "   Humidity  Windspeed\n",
       "0        83         10\n",
       "1        81         14\n",
       "2        69          8\n",
       "3        57         14\n",
       "4        61         18\n",
       "5        61         11\n",
       "6        64         24"
      ]
     },
     "execution_count": 21,
     "metadata": {},
     "output_type": "execute_result"
    }
   ],
   "source": [
    "new_df[['Humidity','Windspeed']]"
   ]
  },
  {
   "cell_type": "code",
   "execution_count": 22,
   "id": "effe3b13-5eff-4ba4-b0ef-a61eef367d10",
   "metadata": {},
   "outputs": [
    {
     "data": {
      "text/plain": [
       "Day                   Wednesday\n",
       "Max Temperature              21\n",
       "Min Temperature              13\n",
       "Windspeed                    24\n",
       "Humidity                     83\n",
       "Event              Thunderstorm\n",
       "dtype: object"
      ]
     },
     "execution_count": 22,
     "metadata": {},
     "output_type": "execute_result"
    }
   ],
   "source": [
    "new_df.max()"
   ]
  },
  {
   "cell_type": "markdown",
   "id": "c0ffd107-56fb-43bd-a9fe-0ab9f08e1fee",
   "metadata": {},
   "source": [
    "## Operations on DataFrame"
   ]
  },
  {
   "cell_type": "code",
   "execution_count": 23,
   "id": "6a37dac9-48f1-4100-b378-01d278c293c1",
   "metadata": {},
   "outputs": [
    {
     "data": {
      "text/plain": [
       "0    83\n",
       "1    81\n",
       "2    69\n",
       "3    57\n",
       "4    61\n",
       "5    61\n",
       "6    64\n",
       "Name: Humidity, dtype: int64"
      ]
     },
     "execution_count": 23,
     "metadata": {},
     "output_type": "execute_result"
    }
   ],
   "source": [
    "new_df['Humidity']"
   ]
  },
  {
   "cell_type": "code",
   "execution_count": 24,
   "id": "27ab5f20-537f-4427-82db-468cc3239f5d",
   "metadata": {},
   "outputs": [
    {
     "data": {
      "text/plain": [
       "83"
      ]
     },
     "execution_count": 24,
     "metadata": {},
     "output_type": "execute_result"
    }
   ],
   "source": [
    "new_df['Humidity'].max()"
   ]
  },
  {
   "cell_type": "code",
   "execution_count": 25,
   "id": "7f284b76-b139-4635-ba3d-5ce61ba642d4",
   "metadata": {},
   "outputs": [
    {
     "data": {
      "text/html": [
       "<div>\n",
       "<style scoped>\n",
       "    .dataframe tbody tr th:only-of-type {\n",
       "        vertical-align: middle;\n",
       "    }\n",
       "\n",
       "    .dataframe tbody tr th {\n",
       "        vertical-align: top;\n",
       "    }\n",
       "\n",
       "    .dataframe thead th {\n",
       "        text-align: right;\n",
       "    }\n",
       "</style>\n",
       "<table border=\"1\" class=\"dataframe\">\n",
       "  <thead>\n",
       "    <tr style=\"text-align: right;\">\n",
       "      <th></th>\n",
       "      <th>Day</th>\n",
       "      <th>Max Temperature</th>\n",
       "      <th>Min Temperature</th>\n",
       "      <th>Windspeed</th>\n",
       "      <th>Humidity</th>\n",
       "      <th>Event</th>\n",
       "    </tr>\n",
       "  </thead>\n",
       "  <tbody>\n",
       "    <tr>\n",
       "      <th>0</th>\n",
       "      <td>Monday</td>\n",
       "      <td>18</td>\n",
       "      <td>10</td>\n",
       "      <td>10</td>\n",
       "      <td>83</td>\n",
       "      <td>Rain</td>\n",
       "    </tr>\n",
       "    <tr>\n",
       "      <th>1</th>\n",
       "      <td>Tuesday</td>\n",
       "      <td>19</td>\n",
       "      <td>13</td>\n",
       "      <td>14</td>\n",
       "      <td>81</td>\n",
       "      <td>Thunderstorm</td>\n",
       "    </tr>\n",
       "  </tbody>\n",
       "</table>\n",
       "</div>"
      ],
      "text/plain": [
       "       Day  Max Temperature  Min Temperature  Windspeed  Humidity  \\\n",
       "0   Monday               18               10         10        83   \n",
       "1  Tuesday               19               13         14        81   \n",
       "\n",
       "          Event  \n",
       "0          Rain  \n",
       "1  Thunderstorm  "
      ]
     },
     "execution_count": 25,
     "metadata": {},
     "output_type": "execute_result"
    }
   ],
   "source": [
    "new_df[new_df['Humidity']>70]"
   ]
  },
  {
   "cell_type": "code",
   "execution_count": 26,
   "id": "729715cf-0f79-4530-bf5f-17b56e4e95f5",
   "metadata": {},
   "outputs": [
    {
     "data": {
      "text/html": [
       "<div>\n",
       "<style scoped>\n",
       "    .dataframe tbody tr th:only-of-type {\n",
       "        vertical-align: middle;\n",
       "    }\n",
       "\n",
       "    .dataframe tbody tr th {\n",
       "        vertical-align: top;\n",
       "    }\n",
       "\n",
       "    .dataframe thead th {\n",
       "        text-align: right;\n",
       "    }\n",
       "</style>\n",
       "<table border=\"1\" class=\"dataframe\">\n",
       "  <thead>\n",
       "    <tr style=\"text-align: right;\">\n",
       "      <th></th>\n",
       "      <th>Max Temperature</th>\n",
       "      <th>Min Temperature</th>\n",
       "      <th>Windspeed</th>\n",
       "      <th>Humidity</th>\n",
       "      <th>Event</th>\n",
       "    </tr>\n",
       "    <tr>\n",
       "      <th>Day</th>\n",
       "      <th></th>\n",
       "      <th></th>\n",
       "      <th></th>\n",
       "      <th></th>\n",
       "      <th></th>\n",
       "    </tr>\n",
       "  </thead>\n",
       "  <tbody>\n",
       "    <tr>\n",
       "      <th>Monday</th>\n",
       "      <td>18</td>\n",
       "      <td>10</td>\n",
       "      <td>10</td>\n",
       "      <td>83</td>\n",
       "      <td>Rain</td>\n",
       "    </tr>\n",
       "    <tr>\n",
       "      <th>Tuesday</th>\n",
       "      <td>19</td>\n",
       "      <td>13</td>\n",
       "      <td>14</td>\n",
       "      <td>81</td>\n",
       "      <td>Thunderstorm</td>\n",
       "    </tr>\n",
       "    <tr>\n",
       "      <th>Wednesday</th>\n",
       "      <td>20</td>\n",
       "      <td>12</td>\n",
       "      <td>8</td>\n",
       "      <td>69</td>\n",
       "      <td>Rain</td>\n",
       "    </tr>\n",
       "    <tr>\n",
       "      <th>Thursday</th>\n",
       "      <td>20</td>\n",
       "      <td>8</td>\n",
       "      <td>14</td>\n",
       "      <td>57</td>\n",
       "      <td>Sunny</td>\n",
       "    </tr>\n",
       "    <tr>\n",
       "      <th>Friday</th>\n",
       "      <td>21</td>\n",
       "      <td>7</td>\n",
       "      <td>18</td>\n",
       "      <td>61</td>\n",
       "      <td>Fog</td>\n",
       "    </tr>\n",
       "    <tr>\n",
       "      <th>Saturday</th>\n",
       "      <td>16</td>\n",
       "      <td>11</td>\n",
       "      <td>11</td>\n",
       "      <td>61</td>\n",
       "      <td>Fog</td>\n",
       "    </tr>\n",
       "    <tr>\n",
       "      <th>Sunday</th>\n",
       "      <td>21</td>\n",
       "      <td>12</td>\n",
       "      <td>24</td>\n",
       "      <td>64</td>\n",
       "      <td>Rain</td>\n",
       "    </tr>\n",
       "  </tbody>\n",
       "</table>\n",
       "</div>"
      ],
      "text/plain": [
       "           Max Temperature  Min Temperature  Windspeed  Humidity         Event\n",
       "Day                                                                           \n",
       "Monday                  18               10         10        83          Rain\n",
       "Tuesday                 19               13         14        81  Thunderstorm\n",
       "Wednesday               20               12          8        69          Rain\n",
       "Thursday                20                8         14        57         Sunny\n",
       "Friday                  21                7         18        61           Fog\n",
       "Saturday                16               11         11        61           Fog\n",
       "Sunday                  21               12         24        64          Rain"
      ]
     },
     "execution_count": 26,
     "metadata": {},
     "output_type": "execute_result"
    }
   ],
   "source": [
    "new_df.set_index('Day')"
   ]
  },
  {
   "cell_type": "code",
   "execution_count": 27,
   "id": "8f395a2b-d130-4179-b08a-f60eed005a9d",
   "metadata": {},
   "outputs": [
    {
     "data": {
      "text/html": [
       "<div>\n",
       "<style scoped>\n",
       "    .dataframe tbody tr th:only-of-type {\n",
       "        vertical-align: middle;\n",
       "    }\n",
       "\n",
       "    .dataframe tbody tr th {\n",
       "        vertical-align: top;\n",
       "    }\n",
       "\n",
       "    .dataframe thead th {\n",
       "        text-align: right;\n",
       "    }\n",
       "</style>\n",
       "<table border=\"1\" class=\"dataframe\">\n",
       "  <thead>\n",
       "    <tr style=\"text-align: right;\">\n",
       "      <th></th>\n",
       "      <th>Max Temperature</th>\n",
       "      <th>Min Temperature</th>\n",
       "      <th>Windspeed</th>\n",
       "      <th>Humidity</th>\n",
       "    </tr>\n",
       "  </thead>\n",
       "  <tbody>\n",
       "    <tr>\n",
       "      <th>count</th>\n",
       "      <td>7.000000</td>\n",
       "      <td>7.000000</td>\n",
       "      <td>7.000000</td>\n",
       "      <td>7.000000</td>\n",
       "    </tr>\n",
       "    <tr>\n",
       "      <th>mean</th>\n",
       "      <td>19.285714</td>\n",
       "      <td>10.428571</td>\n",
       "      <td>14.142857</td>\n",
       "      <td>68.000000</td>\n",
       "    </tr>\n",
       "    <tr>\n",
       "      <th>std</th>\n",
       "      <td>1.799471</td>\n",
       "      <td>2.225395</td>\n",
       "      <td>5.429198</td>\n",
       "      <td>10.246951</td>\n",
       "    </tr>\n",
       "    <tr>\n",
       "      <th>min</th>\n",
       "      <td>16.000000</td>\n",
       "      <td>7.000000</td>\n",
       "      <td>8.000000</td>\n",
       "      <td>57.000000</td>\n",
       "    </tr>\n",
       "    <tr>\n",
       "      <th>25%</th>\n",
       "      <td>18.500000</td>\n",
       "      <td>9.000000</td>\n",
       "      <td>10.500000</td>\n",
       "      <td>61.000000</td>\n",
       "    </tr>\n",
       "    <tr>\n",
       "      <th>50%</th>\n",
       "      <td>20.000000</td>\n",
       "      <td>11.000000</td>\n",
       "      <td>14.000000</td>\n",
       "      <td>64.000000</td>\n",
       "    </tr>\n",
       "    <tr>\n",
       "      <th>75%</th>\n",
       "      <td>20.500000</td>\n",
       "      <td>12.000000</td>\n",
       "      <td>16.000000</td>\n",
       "      <td>75.000000</td>\n",
       "    </tr>\n",
       "    <tr>\n",
       "      <th>max</th>\n",
       "      <td>21.000000</td>\n",
       "      <td>13.000000</td>\n",
       "      <td>24.000000</td>\n",
       "      <td>83.000000</td>\n",
       "    </tr>\n",
       "  </tbody>\n",
       "</table>\n",
       "</div>"
      ],
      "text/plain": [
       "       Max Temperature  Min Temperature  Windspeed   Humidity\n",
       "count         7.000000         7.000000   7.000000   7.000000\n",
       "mean         19.285714        10.428571  14.142857  68.000000\n",
       "std           1.799471         2.225395   5.429198  10.246951\n",
       "min          16.000000         7.000000   8.000000  57.000000\n",
       "25%          18.500000         9.000000  10.500000  61.000000\n",
       "50%          20.000000        11.000000  14.000000  64.000000\n",
       "75%          20.500000        12.000000  16.000000  75.000000\n",
       "max          21.000000        13.000000  24.000000  83.000000"
      ]
     },
     "execution_count": 27,
     "metadata": {},
     "output_type": "execute_result"
    }
   ],
   "source": [
    "new_df.describe()"
   ]
  },
  {
   "cell_type": "markdown",
   "id": "0e5be6e8-9a89-47ba-82a4-de082f00c027",
   "metadata": {},
   "source": [
    "## Task\n",
    "1) Func Describe(count, mean, min, max)"
   ]
  },
  {
   "cell_type": "code",
   "execution_count": 28,
   "id": "319f542a-8848-498c-bc96-8874ca8a353c",
   "metadata": {},
   "outputs": [],
   "source": [
    "# Task 2\n",
    "def Describe(df):\n",
    "    return df.describe()"
   ]
  },
  {
   "cell_type": "code",
   "execution_count": 29,
   "id": "22e3c4b9-5931-4c58-9ef0-65706c9e4df3",
   "metadata": {},
   "outputs": [
    {
     "data": {
      "text/html": [
       "<div>\n",
       "<style scoped>\n",
       "    .dataframe tbody tr th:only-of-type {\n",
       "        vertical-align: middle;\n",
       "    }\n",
       "\n",
       "    .dataframe tbody tr th {\n",
       "        vertical-align: top;\n",
       "    }\n",
       "\n",
       "    .dataframe thead th {\n",
       "        text-align: right;\n",
       "    }\n",
       "</style>\n",
       "<table border=\"1\" class=\"dataframe\">\n",
       "  <thead>\n",
       "    <tr style=\"text-align: right;\">\n",
       "      <th></th>\n",
       "      <th>Max Temperature</th>\n",
       "      <th>Min Temperature</th>\n",
       "      <th>Windspeed</th>\n",
       "      <th>Humidity</th>\n",
       "    </tr>\n",
       "  </thead>\n",
       "  <tbody>\n",
       "    <tr>\n",
       "      <th>count</th>\n",
       "      <td>7.000000</td>\n",
       "      <td>7.000000</td>\n",
       "      <td>7.000000</td>\n",
       "      <td>7.000000</td>\n",
       "    </tr>\n",
       "    <tr>\n",
       "      <th>mean</th>\n",
       "      <td>19.285714</td>\n",
       "      <td>10.428571</td>\n",
       "      <td>14.142857</td>\n",
       "      <td>68.000000</td>\n",
       "    </tr>\n",
       "    <tr>\n",
       "      <th>std</th>\n",
       "      <td>1.799471</td>\n",
       "      <td>2.225395</td>\n",
       "      <td>5.429198</td>\n",
       "      <td>10.246951</td>\n",
       "    </tr>\n",
       "    <tr>\n",
       "      <th>min</th>\n",
       "      <td>16.000000</td>\n",
       "      <td>7.000000</td>\n",
       "      <td>8.000000</td>\n",
       "      <td>57.000000</td>\n",
       "    </tr>\n",
       "    <tr>\n",
       "      <th>25%</th>\n",
       "      <td>18.500000</td>\n",
       "      <td>9.000000</td>\n",
       "      <td>10.500000</td>\n",
       "      <td>61.000000</td>\n",
       "    </tr>\n",
       "    <tr>\n",
       "      <th>50%</th>\n",
       "      <td>20.000000</td>\n",
       "      <td>11.000000</td>\n",
       "      <td>14.000000</td>\n",
       "      <td>64.000000</td>\n",
       "    </tr>\n",
       "    <tr>\n",
       "      <th>75%</th>\n",
       "      <td>20.500000</td>\n",
       "      <td>12.000000</td>\n",
       "      <td>16.000000</td>\n",
       "      <td>75.000000</td>\n",
       "    </tr>\n",
       "    <tr>\n",
       "      <th>max</th>\n",
       "      <td>21.000000</td>\n",
       "      <td>13.000000</td>\n",
       "      <td>24.000000</td>\n",
       "      <td>83.000000</td>\n",
       "    </tr>\n",
       "  </tbody>\n",
       "</table>\n",
       "</div>"
      ],
      "text/plain": [
       "       Max Temperature  Min Temperature  Windspeed   Humidity\n",
       "count         7.000000         7.000000   7.000000   7.000000\n",
       "mean         19.285714        10.428571  14.142857  68.000000\n",
       "std           1.799471         2.225395   5.429198  10.246951\n",
       "min          16.000000         7.000000   8.000000  57.000000\n",
       "25%          18.500000         9.000000  10.500000  61.000000\n",
       "50%          20.000000        11.000000  14.000000  64.000000\n",
       "75%          20.500000        12.000000  16.000000  75.000000\n",
       "max          21.000000        13.000000  24.000000  83.000000"
      ]
     },
     "execution_count": 29,
     "metadata": {},
     "output_type": "execute_result"
    }
   ],
   "source": [
    "Describe(new_df)"
   ]
  },
  {
   "cell_type": "code",
   "execution_count": 30,
   "id": "3ad4b295-e5ab-47ff-a821-20af46d924be",
   "metadata": {},
   "outputs": [
    {
     "name": "stdout",
     "output_type": "stream",
     "text": [
      "<class 'pandas.core.frame.DataFrame'>\n",
      "RangeIndex: 7 entries, 0 to 6\n",
      "Data columns (total 6 columns):\n",
      " #   Column           Non-Null Count  Dtype \n",
      "---  ------           --------------  ----- \n",
      " 0   Day              7 non-null      object\n",
      " 1   Max Temperature  7 non-null      int64 \n",
      " 2   Min Temperature  7 non-null      int64 \n",
      " 3   Windspeed        7 non-null      int64 \n",
      " 4   Humidity         7 non-null      int64 \n",
      " 5   Event            7 non-null      object\n",
      "dtypes: int64(4), object(2)\n",
      "memory usage: 464.0+ bytes\n"
     ]
    }
   ],
   "source": [
    "new_df.info()"
   ]
  },
  {
   "cell_type": "code",
   "execution_count": 31,
   "id": "bdb33e4c-cce0-4baa-95f4-21c36dcbea70",
   "metadata": {},
   "outputs": [
    {
     "data": {
      "text/html": [
       "<div>\n",
       "<style scoped>\n",
       "    .dataframe tbody tr th:only-of-type {\n",
       "        vertical-align: middle;\n",
       "    }\n",
       "\n",
       "    .dataframe tbody tr th {\n",
       "        vertical-align: top;\n",
       "    }\n",
       "\n",
       "    .dataframe thead th {\n",
       "        text-align: right;\n",
       "    }\n",
       "</style>\n",
       "<table border=\"1\" class=\"dataframe\">\n",
       "  <thead>\n",
       "    <tr style=\"text-align: right;\">\n",
       "      <th></th>\n",
       "      <th>Max Temperature</th>\n",
       "      <th>Min Temperature</th>\n",
       "      <th>Windspeed</th>\n",
       "      <th>Humidity</th>\n",
       "    </tr>\n",
       "  </thead>\n",
       "  <tbody>\n",
       "    <tr>\n",
       "      <th>Max Temperature</th>\n",
       "      <td>1.000000</td>\n",
       "      <td>-0.243771</td>\n",
       "      <td>0.592211</td>\n",
       "      <td>-0.235008</td>\n",
       "    </tr>\n",
       "    <tr>\n",
       "      <th>Min Temperature</th>\n",
       "      <td>-0.243771</td>\n",
       "      <td>1.000000</td>\n",
       "      <td>-0.102473</td>\n",
       "      <td>0.504308</td>\n",
       "    </tr>\n",
       "    <tr>\n",
       "      <th>Windspeed</th>\n",
       "      <td>0.592211</td>\n",
       "      <td>-0.102473</td>\n",
       "      <td>1.000000</td>\n",
       "      <td>-0.338530</td>\n",
       "    </tr>\n",
       "    <tr>\n",
       "      <th>Humidity</th>\n",
       "      <td>-0.235008</td>\n",
       "      <td>0.504308</td>\n",
       "      <td>-0.338530</td>\n",
       "      <td>1.000000</td>\n",
       "    </tr>\n",
       "  </tbody>\n",
       "</table>\n",
       "</div>"
      ],
      "text/plain": [
       "                 Max Temperature  Min Temperature  Windspeed  Humidity\n",
       "Max Temperature         1.000000        -0.243771   0.592211 -0.235008\n",
       "Min Temperature        -0.243771         1.000000  -0.102473  0.504308\n",
       "Windspeed               0.592211        -0.102473   1.000000 -0.338530\n",
       "Humidity               -0.235008         0.504308  -0.338530  1.000000"
      ]
     },
     "execution_count": 31,
     "metadata": {},
     "output_type": "execute_result"
    }
   ],
   "source": [
    "new_df.corr(numeric_only = True)"
   ]
  },
  {
   "cell_type": "code",
   "execution_count": 32,
   "id": "5800af5c-6a9d-444e-bea3-9bd5c3acf4ab",
   "metadata": {},
   "outputs": [
    {
     "data": {
      "text/plain": [
       "pandas.core.series.Series"
      ]
     },
     "execution_count": 32,
     "metadata": {},
     "output_type": "execute_result"
    }
   ],
   "source": [
    "type(new_df['Humidity'])"
   ]
  },
  {
   "cell_type": "code",
   "execution_count": 33,
   "id": "c1006a7b-ebc2-4596-b6bb-51b7879221a9",
   "metadata": {},
   "outputs": [],
   "source": [
    "import numpy as np"
   ]
  },
  {
   "cell_type": "code",
   "execution_count": 34,
   "id": "e8914da0-10d7-48f1-bb79-ec5166a663f4",
   "metadata": {},
   "outputs": [
    {
     "data": {
      "text/plain": [
       "array([83, 81, 69, 57, 61, 61, 64], dtype=int64)"
      ]
     },
     "execution_count": 34,
     "metadata": {},
     "output_type": "execute_result"
    }
   ],
   "source": [
    "new_df['Humidity'].to_numpy()"
   ]
  },
  {
   "cell_type": "markdown",
   "id": "006394a7-a50b-4fd3-9c27-6c352ca7fb50",
   "metadata": {},
   "source": [
    "# 3 Feb 23"
   ]
  },
  {
   "cell_type": "code",
   "execution_count": null,
   "id": "2711116e-c54a-4648-91f7-7df72486c246",
   "metadata": {},
   "outputs": [],
   "source": []
  }
 ],
 "metadata": {
  "kernelspec": {
   "display_name": "Python 3 (ipykernel)",
   "language": "python",
   "name": "python3"
  },
  "language_info": {
   "codemirror_mode": {
    "name": "ipython",
    "version": 3
   },
   "file_extension": ".py",
   "mimetype": "text/x-python",
   "name": "python",
   "nbconvert_exporter": "python",
   "pygments_lexer": "ipython3",
   "version": "3.11.0"
  }
 },
 "nbformat": 4,
 "nbformat_minor": 5
}
