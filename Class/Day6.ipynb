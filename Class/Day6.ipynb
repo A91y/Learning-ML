{
 "cells": [
  {
   "cell_type": "code",
   "execution_count": 1,
   "id": "8eb18fa7-a486-4349-a33b-06e4325d2545",
   "metadata": {},
   "outputs": [],
   "source": [
    "import numpy as np"
   ]
  },
  {
   "cell_type": "code",
   "execution_count": 2,
   "id": "a9b52776-4c72-41fd-b874-daaa04bb5866",
   "metadata": {},
   "outputs": [],
   "source": [
    "#creating an array\n",
    "arr = np.array((1,2,3,4,5))"
   ]
  },
  {
   "cell_type": "code",
   "execution_count": 3,
   "id": "2b232d5b-7bda-40fc-bf2f-8b58bbac0101",
   "metadata": {},
   "outputs": [
    {
     "data": {
      "text/plain": [
       "array([1, 2, 3, 4, 5])"
      ]
     },
     "execution_count": 3,
     "metadata": {},
     "output_type": "execute_result"
    }
   ],
   "source": [
    "arr"
   ]
  },
  {
   "cell_type": "code",
   "execution_count": 4,
   "id": "a9a8bd89-2715-4308-b384-d8c9966c24bd",
   "metadata": {},
   "outputs": [],
   "source": [
    "#datatype of an array\n",
    "\n",
    "arr = np.array([1,2,3,4], dtype=float)"
   ]
  },
  {
   "cell_type": "code",
   "execution_count": 5,
   "id": "a98c444b-b63f-452c-88c6-50bc52b0168f",
   "metadata": {},
   "outputs": [
    {
     "data": {
      "text/plain": [
       "array([1., 2., 3., 4.])"
      ]
     },
     "execution_count": 5,
     "metadata": {},
     "output_type": "execute_result"
    }
   ],
   "source": [
    "arr"
   ]
  },
  {
   "cell_type": "code",
   "execution_count": 6,
   "id": "61071775-de6e-48ca-b833-a7bc54d5fc80",
   "metadata": {},
   "outputs": [],
   "source": [
    "arr = np.arange(10,40,2)"
   ]
  },
  {
   "cell_type": "code",
   "execution_count": 7,
   "id": "ce4aeaf7-341c-4e18-a848-ac20b9c17be6",
   "metadata": {},
   "outputs": [
    {
     "data": {
      "text/plain": [
       "array([10, 12, 14, 16, 18, 20, 22, 24, 26, 28, 30, 32, 34, 36, 38])"
      ]
     },
     "execution_count": 7,
     "metadata": {},
     "output_type": "execute_result"
    }
   ],
   "source": [
    "arr"
   ]
  },
  {
   "cell_type": "code",
   "execution_count": 8,
   "id": "563f3bf0-cde2-4e8f-8aa3-372c50069bc6",
   "metadata": {},
   "outputs": [
    {
     "data": {
      "text/plain": [
       "array([10, 12, 14, 16, 18, 50, 20, 22, 24, 26, 28, 30, 32, 34, 36, 38])"
      ]
     },
     "execution_count": 8,
     "metadata": {},
     "output_type": "execute_result"
    }
   ],
   "source": [
    "np.insert(arr,5,50)"
   ]
  },
  {
   "cell_type": "code",
   "execution_count": 9,
   "id": "3997606a-7d9d-44e6-a39b-052547b91842",
   "metadata": {},
   "outputs": [
    {
     "data": {
      "text/plain": [
       "array([10, 12, 14, 16, 18, 22, 24, 26, 28, 30, 32, 34, 36, 38])"
      ]
     },
     "execution_count": 9,
     "metadata": {},
     "output_type": "execute_result"
    }
   ],
   "source": [
    "np.delete(arr, 5)"
   ]
  },
  {
   "cell_type": "code",
   "execution_count": 10,
   "id": "527b8c4f-a5b7-4958-987c-8e6762e4e7ee",
   "metadata": {},
   "outputs": [
    {
     "data": {
      "text/plain": [
       "array([10, 12, 14, 16, 18, 20, 22, 24, 26, 28, 30, 32, 34, 36, 38])"
      ]
     },
     "execution_count": 10,
     "metadata": {},
     "output_type": "execute_result"
    }
   ],
   "source": [
    "arr"
   ]
  },
  {
   "cell_type": "code",
   "execution_count": 11,
   "id": "08c4603c-fbe8-4b58-8b17-4b8a0821a8d7",
   "metadata": {},
   "outputs": [],
   "source": [
    "arr = np.append(arr,50)"
   ]
  },
  {
   "cell_type": "code",
   "execution_count": 12,
   "id": "ced6b8c2-1d4a-4a12-8bc7-57d56b8258ab",
   "metadata": {},
   "outputs": [
    {
     "data": {
      "text/plain": [
       "array([10, 12, 14, 16, 18, 20, 22, 24, 26, 28, 30, 32, 34, 36, 38, 50])"
      ]
     },
     "execution_count": 12,
     "metadata": {},
     "output_type": "execute_result"
    }
   ],
   "source": [
    "arr"
   ]
  },
  {
   "cell_type": "code",
   "execution_count": 13,
   "id": "05216423-0f89-42b6-8570-55e2f1909b12",
   "metadata": {},
   "outputs": [],
   "source": [
    "arr = np.array((1,2,3,4,50))"
   ]
  },
  {
   "cell_type": "code",
   "execution_count": 14,
   "id": "2b4534b7-dbf6-4635-9bca-b9acc32d3a6c",
   "metadata": {},
   "outputs": [
    {
     "data": {
      "text/plain": [
       "4"
      ]
     },
     "execution_count": 14,
     "metadata": {},
     "output_type": "execute_result"
    }
   ],
   "source": [
    "arr[3]"
   ]
  },
  {
   "cell_type": "markdown",
   "id": "aba84a2a-bd6f-4e78-9101-26b8670f07c6",
   "metadata": {},
   "source": [
    "# Matrices"
   ]
  },
  {
   "cell_type": "code",
   "execution_count": 15,
   "id": "05790813-8e19-467e-a16d-19eaeec2e65a",
   "metadata": {},
   "outputs": [],
   "source": [
    "mat = np.array([[ 1 ,2, 3, 4],\n",
    "                [ 5, 6, 7, 8],\n",
    "                [ 9,10,11,12]])"
   ]
  },
  {
   "cell_type": "code",
   "execution_count": 16,
   "id": "c0272b68-9cc7-4531-8441-bf324b525838",
   "metadata": {},
   "outputs": [
    {
     "name": "stdout",
     "output_type": "stream",
     "text": [
      "[[ 1  2  3  4]\n",
      " [ 5  6  7  8]\n",
      " [ 9 10 11 12]]\n"
     ]
    }
   ],
   "source": [
    "print(mat)"
   ]
  },
  {
   "cell_type": "code",
   "execution_count": 17,
   "id": "bb09f725-2cd3-4586-9818-a19e0ce699c2",
   "metadata": {},
   "outputs": [
    {
     "name": "stdout",
     "output_type": "stream",
     "text": [
      "2.047934055328369\n"
     ]
    }
   ],
   "source": [
    "#speed list\n",
    "a = [i for i in range(10000000)]\n",
    "b = [i for i in range(10000000, 20000000)]\n",
    "c = []\n",
    "import time\n",
    "start = time.time()\n",
    "for i in range(len(a)):\n",
    "    c.append(a[i]+b[i])\n",
    "print(time.time() - start)\n",
    "time1 = time.time() - start"
   ]
  },
  {
   "cell_type": "code",
   "execution_count": 18,
   "id": "2f8da90f-b67f-4134-8dc7-f7e803a32dcd",
   "metadata": {},
   "outputs": [
    {
     "name": "stdout",
     "output_type": "stream",
     "text": [
      "0.007119655609130859\n"
     ]
    }
   ],
   "source": [
    "arr1 = np.arange(10000000)\n",
    "arr2 = np.arange(10000000, 20000000)\n",
    "import time\n",
    "start = time.time()\n",
    "arr3 = arr1 + arr2\n",
    "print(time.time() - start)\n",
    "time2 = time.time() - start"
   ]
  },
  {
   "cell_type": "code",
   "execution_count": 19,
   "id": "c9bb0f11-c10f-46b3-857b-1a7a4db4afbd",
   "metadata": {},
   "outputs": [
    {
     "data": {
      "text/plain": [
       "287.64510079699954"
      ]
     },
     "execution_count": 19,
     "metadata": {},
     "output_type": "execute_result"
    }
   ],
   "source": [
    "time1/time2"
   ]
  },
  {
   "cell_type": "code",
   "execution_count": 20,
   "id": "45fa0369-5dc5-464d-8ba3-4c4c2035a7d0",
   "metadata": {},
   "outputs": [
    {
     "data": {
      "text/plain": [
       "array([[ 1,  2,  3,  4],\n",
       "       [ 5,  6,  7,  8],\n",
       "       [ 9, 10, 11, 12]])"
      ]
     },
     "execution_count": 20,
     "metadata": {},
     "output_type": "execute_result"
    }
   ],
   "source": [
    "mat"
   ]
  },
  {
   "cell_type": "code",
   "execution_count": 21,
   "id": "444e13f2-c0d2-460c-9c5c-cfa603622643",
   "metadata": {},
   "outputs": [
    {
     "data": {
      "text/plain": [
       "array([5, 6, 7, 8])"
      ]
     },
     "execution_count": 21,
     "metadata": {},
     "output_type": "execute_result"
    }
   ],
   "source": [
    "mat[1]"
   ]
  },
  {
   "cell_type": "code",
   "execution_count": 22,
   "id": "aad727ca-fc04-4e18-adf5-9ca620c5c3e3",
   "metadata": {},
   "outputs": [
    {
     "data": {
      "text/plain": [
       "6"
      ]
     },
     "execution_count": 22,
     "metadata": {},
     "output_type": "execute_result"
    }
   ],
   "source": [
    "mat[1,1]"
   ]
  },
  {
   "cell_type": "code",
   "execution_count": 23,
   "id": "f2e38e0d-e4e1-4b37-82bc-581d0c4d2622",
   "metadata": {},
   "outputs": [
    {
     "data": {
      "text/plain": [
       "6"
      ]
     },
     "execution_count": 23,
     "metadata": {},
     "output_type": "execute_result"
    }
   ],
   "source": [
    "mat[1][1]"
   ]
  },
  {
   "cell_type": "code",
   "execution_count": 26,
   "id": "899233ab-5075-41b5-a5f6-5c141c07531c",
   "metadata": {},
   "outputs": [],
   "source": [
    "d3 = np.array([[[1,2,3,4],[5,6,7,8]],[[9,10,11,12],[13,14,15,16]]])"
   ]
  },
  {
   "cell_type": "code",
   "execution_count": 27,
   "id": "2ff2242a-2c25-48e5-9137-f0f07e1e6c25",
   "metadata": {},
   "outputs": [
    {
     "data": {
      "text/plain": [
       "array([[[ 1,  2,  3,  4],\n",
       "        [ 5,  6,  7,  8]],\n",
       "\n",
       "       [[ 9, 10, 11, 12],\n",
       "        [13, 14, 15, 16]]])"
      ]
     },
     "execution_count": 27,
     "metadata": {},
     "output_type": "execute_result"
    }
   ],
   "source": [
    "d3"
   ]
  },
  {
   "cell_type": "code",
   "execution_count": 28,
   "id": "839564a3-3b78-45d6-be4e-8c757ea8cb55",
   "metadata": {},
   "outputs": [
    {
     "data": {
      "text/plain": [
       "array([[ 9, 10, 11, 12],\n",
       "       [13, 14, 15, 16]])"
      ]
     },
     "execution_count": 28,
     "metadata": {},
     "output_type": "execute_result"
    }
   ],
   "source": [
    "d3[1]"
   ]
  },
  {
   "cell_type": "code",
   "execution_count": 29,
   "id": "8470ec61-f6b8-4650-8390-7ca29d01b36c",
   "metadata": {},
   "outputs": [
    {
     "data": {
      "text/plain": [
       "array([ 9, 10, 11, 12])"
      ]
     },
     "execution_count": 29,
     "metadata": {},
     "output_type": "execute_result"
    }
   ],
   "source": [
    "d3[1,0]"
   ]
  },
  {
   "cell_type": "code",
   "execution_count": 30,
   "id": "029d5e40-c689-4cb5-8d4f-b2cdc61b5948",
   "metadata": {},
   "outputs": [
    {
     "data": {
      "text/plain": [
       "11"
      ]
     },
     "execution_count": 30,
     "metadata": {},
     "output_type": "execute_result"
    }
   ],
   "source": [
    "d3[1,0,2]"
   ]
  },
  {
   "cell_type": "code",
   "execution_count": null,
   "id": "eee9678f-0bab-4cde-8722-438fb348acb5",
   "metadata": {},
   "outputs": [],
   "source": []
  }
 ],
 "metadata": {
  "kernelspec": {
   "display_name": "Python 3 (ipykernel)",
   "language": "python",
   "name": "python3"
  },
  "language_info": {
   "codemirror_mode": {
    "name": "ipython",
    "version": 3
   },
   "file_extension": ".py",
   "mimetype": "text/x-python",
   "name": "python",
   "nbconvert_exporter": "python",
   "pygments_lexer": "ipython3",
   "version": "3.11.0"
  }
 },
 "nbformat": 4,
 "nbformat_minor": 5
}
