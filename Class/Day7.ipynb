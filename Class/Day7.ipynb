{
 "cells": [
  {
   "cell_type": "code",
   "execution_count": 1,
   "id": "0d5f4496-ad0b-4bf1-883e-e33d3bcc83bb",
   "metadata": {},
   "outputs": [],
   "source": [
    "import numpy as np"
   ]
  },
  {
   "cell_type": "code",
   "execution_count": 2,
   "id": "76c0c1c0-eecc-4f62-ae4c-bba9096d1e3f",
   "metadata": {},
   "outputs": [
    {
     "data": {
      "text/plain": [
       "array([1, 2, 3, 4])"
      ]
     },
     "execution_count": 2,
     "metadata": {},
     "output_type": "execute_result"
    }
   ],
   "source": [
    "arr = np.array((1,2,3,4))\n",
    "arr"
   ]
  },
  {
   "cell_type": "code",
   "execution_count": 3,
   "id": "f04ea79e-005e-47a1-b198-1e32df285d8c",
   "metadata": {},
   "outputs": [
    {
     "data": {
      "text/plain": [
       "array([0, 1, 2, 3])"
      ]
     },
     "execution_count": 3,
     "metadata": {},
     "output_type": "execute_result"
    }
   ],
   "source": [
    "arr2 = np.arange(len(arr))\n",
    "arr2"
   ]
  },
  {
   "cell_type": "code",
   "execution_count": 4,
   "id": "7b5e3e72-8f0c-4250-83e0-9574fda19b54",
   "metadata": {},
   "outputs": [],
   "source": [
    "def reverse(arr):\n",
    "    arr2 = np.arange(len(arr))\n",
    "    for i in range(len(arr)):\n",
    "        arr2[i] = arr[-i-1]\n",
    "    return arr2\n"
   ]
  },
  {
   "cell_type": "code",
   "execution_count": 5,
   "id": "e7906f23-1d42-480a-a4f5-cc80ff7cd81f",
   "metadata": {},
   "outputs": [],
   "source": [
    "def reverse(arr):\n",
    "    return arr[::-1]"
   ]
  },
  {
   "cell_type": "code",
   "execution_count": 6,
   "id": "cc149161-40f3-4091-ab7f-6054669986b2",
   "metadata": {},
   "outputs": [
    {
     "data": {
      "text/plain": [
       "array([4, 3, 2, 1])"
      ]
     },
     "execution_count": 6,
     "metadata": {},
     "output_type": "execute_result"
    }
   ],
   "source": [
    "reverse(arr)"
   ]
  },
  {
   "cell_type": "code",
   "execution_count": 7,
   "id": "efc97532-9127-4a92-9ad1-098f7a515305",
   "metadata": {},
   "outputs": [
    {
     "data": {
      "text/plain": [
       "4"
      ]
     },
     "execution_count": 7,
     "metadata": {},
     "output_type": "execute_result"
    }
   ],
   "source": [
    "max(arr)"
   ]
  },
  {
   "cell_type": "code",
   "execution_count": 8,
   "id": "1b5baa84-7aa1-4a94-a24e-da3e3963d91d",
   "metadata": {},
   "outputs": [],
   "source": [
    "def largest(arr):\n",
    "    arr.sort()\n",
    "    return arr[-1]"
   ]
  },
  {
   "cell_type": "code",
   "execution_count": 9,
   "id": "89cb01ab-1a2c-4844-b15c-1c88b84f310f",
   "metadata": {},
   "outputs": [
    {
     "data": {
      "text/plain": [
       "4"
      ]
     },
     "execution_count": 9,
     "metadata": {},
     "output_type": "execute_result"
    }
   ],
   "source": [
    "largest(arr)"
   ]
  },
  {
   "cell_type": "code",
   "execution_count": 11,
   "id": "2ea1b39a-7d20-4b67-921e-352d5b1f31b3",
   "metadata": {},
   "outputs": [],
   "source": [
    "def rotate(arr,k):\n",
    "    n = len(arr)\n",
    "    k=k%n\n",
    "    for i in range(k):\n",
    "        t = arr[n-1]\n",
    "        for j in range(n-1,0,-1):\n",
    "            arr[j] = arr[j-1]\n",
    "        arr[0] = t\n",
    "    return arr"
   ]
  },
  {
   "cell_type": "code",
   "execution_count": 17,
   "id": "18278d69-eba7-4cd9-bded-81b098c08a4c",
   "metadata": {},
   "outputs": [
    {
     "data": {
      "text/plain": [
       "array([4, 5, 1, 2, 3])"
      ]
     },
     "execution_count": 17,
     "metadata": {},
     "output_type": "execute_result"
    }
   ],
   "source": [
    "rotate(np.array((1,2,3,4,5)),2)"
   ]
  },
  {
   "cell_type": "code",
   "execution_count": null,
   "id": "e4def17d-6900-454c-a293-aca3e3e4e8fd",
   "metadata": {},
   "outputs": [],
   "source": []
  }
 ],
 "metadata": {
  "kernelspec": {
   "display_name": "Python 3 (ipykernel)",
   "language": "python",
   "name": "python3"
  },
  "language_info": {
   "codemirror_mode": {
    "name": "ipython",
    "version": 3
   },
   "file_extension": ".py",
   "mimetype": "text/x-python",
   "name": "python",
   "nbconvert_exporter": "python",
   "pygments_lexer": "ipython3",
   "version": "3.11.0"
  }
 },
 "nbformat": 4,
 "nbformat_minor": 5
}
