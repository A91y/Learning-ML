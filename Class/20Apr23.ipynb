{
 "cells": [
  {
   "cell_type": "markdown",
   "id": "8488b87c-e7e9-439f-9df4-4c3e34aa4319",
   "metadata": {},
   "source": [
    "# Logistic Regression"
   ]
  },
  {
   "cell_type": "code",
   "execution_count": 1,
   "id": "bc63dfb3-3d3d-41e2-aae1-5fda94e04d92",
   "metadata": {},
   "outputs": [],
   "source": [
    "import numpy as np\n",
    "import matplotlib.pyplot as plt\n",
    "import pandas as pd\n",
    "import seaborn as sns"
   ]
  },
  {
   "cell_type": "code",
   "execution_count": 3,
   "id": "f3465426-78af-4250-ac23-58a1ca4b5fdf",
   "metadata": {},
   "outputs": [],
   "source": [
    "from math import exp\n"
   ]
  },
  {
   "cell_type": "code",
   "execution_count": 6,
   "id": "2180adf1-25ca-409c-a246-d0c6601abb10",
   "metadata": {},
   "outputs": [
    {
     "data": {
      "text/plain": [
       "2.718281828459045"
      ]
     },
     "execution_count": 6,
     "metadata": {},
     "output_type": "execute_result"
    }
   ],
   "source": [
    "exp(1)"
   ]
  },
  {
   "cell_type": "code",
   "execution_count": null,
   "id": "8351d36c-f8a7-486b-a524-c05180f37043",
   "metadata": {},
   "outputs": [],
   "source": []
  }
 ],
 "metadata": {
  "kernelspec": {
   "display_name": "Python 3 (ipykernel)",
   "language": "python",
   "name": "python3"
  },
  "language_info": {
   "codemirror_mode": {
    "name": "ipython",
    "version": 3
   },
   "file_extension": ".py",
   "mimetype": "text/x-python",
   "name": "python",
   "nbconvert_exporter": "python",
   "pygments_lexer": "ipython3",
   "version": "3.11.0"
  }
 },
 "nbformat": 4,
 "nbformat_minor": 5
}
