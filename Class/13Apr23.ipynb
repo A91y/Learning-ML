{
 "cells": [
  {
   "cell_type": "markdown",
   "id": "74043d42-df7a-492f-b358-312ca704fb8e",
   "metadata": {},
   "source": [
    "## Flow"
   ]
  },
  {
   "cell_type": "markdown",
   "id": "77efc84a-acbd-4e37-86e8-5bf5f13e22d5",
   "metadata": {},
   "source": [
    "1. Train/ Test Split\n",
    "2. Train\n",
    "3. Prefict"
   ]
  },
  {
   "cell_type": "code",
   "execution_count": null,
   "id": "f677dd3d-b2b9-42da-9414-e223b39682ea",
   "metadata": {},
   "outputs": [],
   "source": []
  }
 ],
 "metadata": {
  "kernelspec": {
   "display_name": "Python 3 (ipykernel)",
   "language": "python",
   "name": "python3"
  },
  "language_info": {
   "codemirror_mode": {
    "name": "ipython",
    "version": 3
   },
   "file_extension": ".py",
   "mimetype": "text/x-python",
   "name": "python",
   "nbconvert_exporter": "python",
   "pygments_lexer": "ipython3",
   "version": "3.11.0"
  }
 },
 "nbformat": 4,
 "nbformat_minor": 5
}
